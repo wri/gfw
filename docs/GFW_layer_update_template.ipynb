{
 "cells": [
  {
   "attachments": {},
   "cell_type": "markdown",
   "id": "d5c2c2b8-a87a-4a08-851c-5aba2ada41af",
   "metadata": {},
   "source": [
    "# Map Layer Update: TEMPLATE\n",
    "\n",
    "This notebook serves as template and guidance for some common updates on map layers: tile cache, decode function, legend and other descriptions...  \n",
    "\n",
    "Here, these tasks are performed using [LMIpy](https://lmipy.readthedocs.io/en/latest/), the tool developed by **Vizzuality** to interact with [Resource Watch API](http://api.resourcewatch.org/) assets. These actions and changes could also be done by other API interaction methods, such as Python `requests` library or Postman\n",
    "\n"
   ]
  },
  {
   "attachments": {},
   "cell_type": "markdown",
   "id": "53549ee8",
   "metadata": {},
   "source": [
    "### Load libraries"
   ]
  },
  {
   "cell_type": "code",
   "execution_count": null,
   "id": "83fb0a53-d352-4b95-a3d0-6f458301dbe1",
   "metadata": {},
   "outputs": [],
   "source": [
    "import os\n",
    "import json\n",
    "import geopandas as gpd\n",
    "from IPython.display import display\n",
    "import getpass\n",
    "import requests"
   ]
  },
  {
   "cell_type": "code",
   "execution_count": null,
   "id": "49e5d0f3-1d2a-4563-ad24-bc09e2232211",
   "metadata": {},
   "outputs": [],
   "source": [
    "# Install LMIpy if needed\n",
    "#!pip install LMIPy\n",
    "#!python setup.py develop \n",
    "\n",
    "from IPython.display import clear_output\n",
    "clear_output()\n",
    "\n",
    "import LMIPy as lmi\n",
    "from LMIPy import utils, dataAPI\n",
    "\n",
    "print(f'LMI ver. {lmi.__version__} ready!')"
   ]
  },
  {
   "attachments": {},
   "cell_type": "markdown",
   "id": "83e64ae3",
   "metadata": {},
   "source": [
    "##  Authentication\n",
    "To modify Resource Watch API's assets, the user needs a RW API account ([see here on creation](https://resource-watch.github.io/doc-api/quickstart.html#2-create-an-account-with-the-rw-api)) with editor privileges, and use it to retrieve the API token key."
   ]
  },
  {
   "cell_type": "code",
   "execution_count": null,
   "id": "9ff22d21-ffd6-4380-915a-03b43ef61c5d",
   "metadata": {},
   "outputs": [],
   "source": [
    "email = getpass.getpass('Login email:')\n",
    "password = getpass.getpass('Login password:')"
   ]
  },
  {
   "cell_type": "code",
   "execution_count": null,
   "id": "5a845be2-d929-4313-a066-2f140ed354e4",
   "metadata": {},
   "outputs": [],
   "source": [
    "payload = {\n",
    "    \"email\": f\"{email}\",\n",
    "    \"password\": f\"{password}\"\n",
    "}\n",
    "\n",
    "url = f'https://api.resourcewatch.org/auth/login'\n",
    "\n",
    "headers = {'Content-Type': 'application/json'}\n",
    "\n",
    "r = requests.post(url, data=json.dumps(payload), headers=headers)\n",
    "\n",
    "API_TOKEN = r.json().get('data').get('token')"
   ]
  },
  {
   "attachments": {},
   "cell_type": "markdown",
   "id": "a184af9b",
   "metadata": {},
   "source": [
    "## Get dataset of interest  \n",
    "Datasets can contain one or more layers, and included higher-level attributes. It is suggested to first retrieve the dataset containing the layer to modify, and then access the layer.  \n",
    "\n",
    "To find the desired dataset, we search it using LMIpy and defining:  \n",
    "- a keyword to search  \n",
    "- the app it belongs to (gfw in this case)  \n",
    "- the type of asset (dataset, layer or both)  \n",
    "- the environment (staging, preproduction or production)"
   ]
  },
  {
   "attachments": {},
   "cell_type": "markdown",
   "id": "e35f3505-c5bd-4fd7-915c-146965b23288",
   "metadata": {},
   "source": [
    "**Find staging dataset**"
   ]
  },
  {
   "cell_type": "code",
   "execution_count": null,
   "id": "0ea5aae2-6019-4bf5-a6b9-46a9dacbe4ca",
   "metadata": {},
   "outputs": [],
   "source": [
    "search_term = 'loss'\n",
    "app = ['gfw']\n",
    "env = 'staging'\n",
    "#object_type = ['layer', 'dataset']\n",
    "object_type = 'dataset' #search for dataset only\n",
    "collection = lmi.Collection(search=search_term, app=app, env=env, object_type=object_type)\n",
    "collection"
   ]
  },
  {
   "cell_type": "markdown",
   "id": "e35f3505-c5bd-4fd7-915c-146965b23288",
   "metadata": {},
   "source": [
    "**Check production datasets for reference**"
   ]
  },
  {
   "cell_type": "code",
   "execution_count": null,
   "id": "78b1825d-6d23-45fd-82e2-dadb49a5f15a",
   "metadata": {},
   "outputs": [],
   "source": [
    "#search_term = 'loss'\n",
    "#app = ['gfw']\n",
    "env = 'production'\n",
    "#object_type = ['layer', 'dataset']\n",
    "object_type = 'dataset'\n",
    "collection_prod = lmi.Collection(search=search_term, app=app, env=env, object_type=object_type)\n",
    "collection_prod"
   ]
  },
  {
   "cell_type": "code",
   "execution_count": null,
   "id": "30355f69-3a75-4ab1-9776-335c47043641",
   "metadata": {},
   "outputs": [],
   "source": [
    "ds_prod = collection_prod[25] #get index from list\n",
    "#prod_example = lmi.Dataset(id_hash = ) #alternative if we already have the dataset id\n",
    "ds_prod"
   ]
  },
  {
   "cell_type": "markdown",
   "id": "f9423050-f8fb-44bd-a484-ad8479e3c7c5",
   "metadata": {},
   "source": [
    "## Check dataset properties"
   ]
  },
  {
   "cell_type": "code",
   "execution_count": null,
   "id": "782822cd-4497-4a82-875b-aeb463d3bc51",
   "metadata": {},
   "outputs": [],
   "source": [
    "ds =  collection[] #get index from list\n",
    "ds"
   ]
  },
  {
   "cell_type": "code",
   "execution_count": null,
   "id": "aa98e319-fa4f-46e8-bba7-7039a9f863b5",
   "metadata": {},
   "outputs": [],
   "source": [
    "ds.attributes"
   ]
  },
  {
   "cell_type": "markdown",
   "id": "eab3e99d-6656-4340-8217-1b8bfc212dad",
   "metadata": {},
   "source": [
    "## Get associated layer id"
   ]
  },
  {
   "cell_type": "code",
   "execution_count": null,
   "id": "27ea274b-5472-434a-9271-c6426b437280",
   "metadata": {},
   "outputs": [],
   "source": [
    "ds.layers"
   ]
  },
  {
   "cell_type": "code",
   "execution_count": null,
   "id": "22617e0c-fee6-4ca3-8777-e4ecea4c5ee4",
   "metadata": {},
   "outputs": [],
   "source": [
    "lay = ds.layers[]\n",
    "lay"
   ]
  },
  {
   "attachments": {},
   "cell_type": "markdown",
   "id": "715d8faf-0b49-4dc8-b9b1-0006f8f67801",
   "metadata": {},
   "source": [
    "## Check properties in production  \n",
    "Get a first view of the layer's structure in production. Also, check if the layer uses a decode function (only applies to raster data), update if necessary."
   ]
  },
  {
   "cell_type": "code",
   "execution_count": null,
   "id": "14c0692e-d3a5-4a41-b6c0-e0c03a936713",
   "metadata": {},
   "outputs": [],
   "source": [
    "ds_prod.layers"
   ]
  },
  {
   "cell_type": "code",
   "execution_count": null,
   "id": "9d24e8af-3273-4649-b2b0-5ef64fae5b77",
   "metadata": {},
   "outputs": [],
   "source": [
    "prod_lay = ds_prod.layers[0]"
   ]
  },
  {
   "cell_type": "code",
   "execution_count": null,
   "id": "b01aed4f-d93b-41e9-9da7-7745ff6462bd",
   "metadata": {},
   "outputs": [],
   "source": [
    "prod_lay.attributes['layerConfig']"
   ]
  },
  {
   "attachments": {},
   "cell_type": "markdown",
   "id": "34dc4cbb-1c80-4059-bdf8-9d2f045dcdca",
   "metadata": {},
   "source": [
    "Take note if necessary  \n",
    "```\"decode_function\": \" \"```"
   ]
  },
  {
   "attachments": {},
   "cell_type": "markdown",
   "id": "470e8d21-37d8-4c7d-af2b-957130bc98ba",
   "metadata": {
    "tags": []
   },
   "source": [
    "## Update layer info\n",
    "Some common updates include:  \n",
    "- Update tile cache URL  \n",
    "- Update legend info (text, colors, selectors)\n",
    "- Update / check metadata  \n",
    "\n",
    "Where to access to the information / parameters to update:  \n",
    "- `attributes`: Layer name (title in the legend) and status (published: True/False)  \n",
    "- `layerConfig`: tile cache URL, decoding function, max zoom, time/threshold selectors and parameter used  \n",
    "- `legendConfig`: legend type and components (colors, categories), selector's sentence, extra text info  \n",
    "- `interactionConfig`: layer selector parameters (when >1 layer on dataset), analytics tracking keys, metadata endpoint, layer slug id\n",
    "\n"
   ]
  },
  {
   "attachments": {},
   "cell_type": "markdown",
   "id": "d4c97564",
   "metadata": {},
   "source": [
    "**Check staging layer properties**"
   ]
  },
  {
   "cell_type": "code",
   "execution_count": null,
   "id": "64807d22-b4b8-4c9f-865f-abe9d1100758",
   "metadata": {},
   "outputs": [],
   "source": [
    "#Layer config attributes\n",
    "lay.attributes['layerConfig']"
   ]
  },
  {
   "cell_type": "code",
   "execution_count": null,
   "id": "f93b7ced",
   "metadata": {},
   "outputs": [],
   "source": [
    "# Legend config attributes\n",
    "lay.attributes['legendConfig']"
   ]
  },
  {
   "attachments": {},
   "cell_type": "markdown",
   "id": "700e1ca4",
   "metadata": {},
   "source": [
    "### Example of layer update  \n",
    "The payload provided must include the whole object (all the parameters) of the category, in this case `layerConfig`. Any parameter / value can be modified as desired inside that (for example, provide a new tile cache URL / version)  \n",
    "This operation requires the API token passed as `token` parameter."
   ]
  },
  {
   "cell_type": "code",
   "execution_count": null,
   "id": "d7db9171-a6ef-4394-85e1-de79eebc0e33",
   "metadata": {},
   "outputs": [],
   "source": [
    "lay.update(update_params={'layerConfig':{}\n",
    "}, token=API_TOKEN)"
   ]
  },
  {
   "attachments": {},
   "cell_type": "markdown",
   "id": "fc2c4230-1cdc-4c2d-98e8-3e675ed5d1f1",
   "metadata": {},
   "source": [
    "## Changes at dataset level"
   ]
  },
  {
   "attachments": {},
   "cell_type": "markdown",
   "id": "dfcd498e",
   "metadata": {},
   "source": [
    "### Publish / unpublish dataset"
   ]
  },
  {
   "cell_type": "code",
   "execution_count": null,
   "id": "3aed7c1b-75de-47d6-b615-2092561f0a01",
   "metadata": {},
   "outputs": [],
   "source": [
    "ds.update(update_params={\n",
    "    'published': True,\n",
    "}, token=API_TOKEN)"
   ]
  },
  {
   "attachments": {},
   "cell_type": "markdown",
   "id": "5f8480c1",
   "metadata": {},
   "source": [
    "### Update dataset metadata  \n",
    "Dataset metadata contains the information being displayed in the contents index (left hand menu in the platform to select layers).  \n",
    "Some key parameters are:  \n",
    "- name: Name of the dataset displayed in the contents index  \n",
    "- description: text in the information icon  \n",
    "- citation: information displayed under the dataset name  \n",
    "- color: toggle button color  "
   ]
  },
  {
   "cell_type": "code",
   "execution_count": null,
   "id": "864efc38",
   "metadata": {},
   "outputs": [],
   "source": [
    "ds.metadata"
   ]
  },
  {
   "cell_type": "code",
   "execution_count": null,
   "id": "3e88534a",
   "metadata": {},
   "outputs": [],
   "source": [
    "metas = ds.metadata[0]\n",
    "metas.attributes"
   ]
  },
  {
   "attachments": {},
   "cell_type": "markdown",
   "id": "6bb81c63",
   "metadata": {},
   "source": [
    "**To update metadata, include the whole object as payload and modify as needed**  \n",
    "**NOTE: to check the changes on the metadata, the dataset needs to be reloaded (create `ds` and `metas` variables again**)"
   ]
  },
  {
   "cell_type": "code",
   "execution_count": null,
   "id": "730247d6",
   "metadata": {},
   "outputs": [],
   "source": [
    "metas.update(update_params={}, token = API_TOKEN)"
   ]
  },
  {
   "attachments": {},
   "cell_type": "markdown",
   "id": "ce0cd14f",
   "metadata": {},
   "source": [
    "## Deploy to production  \n"
   ]
  },
  {
   "attachments": {},
   "cell_type": "markdown",
   "id": "7deb6a5d",
   "metadata": {},
   "source": [
    "### 1) load staging and production datasets (if not already) via id  "
   ]
  },
  {
   "cell_type": "code",
   "execution_count": null,
   "id": "c3f5ea9b-306f-42b0-927a-86be346727aa",
   "metadata": {},
   "outputs": [],
   "source": [
    "ds = lmi.Dataset('')\n",
    "ds"
   ]
  },
  {
   "cell_type": "code",
   "execution_count": null,
   "id": "03a2c221",
   "metadata": {},
   "outputs": [],
   "source": [
    "ds_prod = lmi.Dataset('')\n",
    "ds_prod"
   ]
  },
  {
   "attachments": {},
   "cell_type": "markdown",
   "id": "ec636774",
   "metadata": {},
   "source": [
    "### 2) Clone staging dataset to production  \n",
    "Update dataset asset name.  \n",
    "Change environment to `production` afterwards (it does not work during cloning)"
   ]
  },
  {
   "cell_type": "code",
   "execution_count": null,
   "id": "43622088",
   "metadata": {},
   "outputs": [],
   "source": [
    "dataset_name = 'SET NAME (v202205)'\n",
    "\n",
    "\n",
    "ds_clone = ds.clone(\n",
    "    token=API_TOKEN,\n",
    "    env='production',\n",
    "    dataset_params={\n",
    "        'name': dataset_name,\n",
    "        'application': ['gfw']\n",
    "    },\n",
    "    clone_children=True\n",
    ")\n",
    "ds_clone.update(update_params={'env':'production'}, token=API_TOKEN)"
   ]
  },
  {
   "attachments": {},
   "cell_type": "markdown",
   "id": "123b72e8",
   "metadata": {},
   "source": [
    "### 3) Unpublish old production dataset  \n",
    "Update name to indicate old dataset"
   ]
  },
  {
   "cell_type": "code",
   "execution_count": null,
   "id": "065b1b87",
   "metadata": {},
   "outputs": [],
   "source": [
    "ds_prod.update(update_params={\n",
    "    'name': 'SET NAME (DEPRECATED)',\n",
    "    'published':False}, token=API_TOKEN)"
   ]
  }
 ],
 "metadata": {
  "kernelspec": {
   "display_name": "Python 3.9.7 ('gfw')",
   "language": "python",
   "name": "python3"
  },
  "language_info": {
   "codemirror_mode": {
    "name": "ipython",
    "version": 3
   },
   "file_extension": ".py",
   "mimetype": "text/x-python",
   "name": "python",
   "nbconvert_exporter": "python",
   "pygments_lexer": "ipython3",
   "version": "3.9.7 (default, Sep 16 2021, 08:50:36) \n[Clang 10.0.0 ]"
  },
  "vscode": {
   "interpreter": {
    "hash": "2a9ac8d5dd6905b6db348871184a65dd2dfdf9210270a3ede0635c6e864e6650"
   }
  }
 },
 "nbformat": 4,
 "nbformat_minor": 5
}
