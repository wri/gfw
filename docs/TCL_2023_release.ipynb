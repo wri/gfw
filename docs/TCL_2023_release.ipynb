{
 "cells": [
  {
   "attachments": {},
   "cell_type": "markdown",
   "id": "d5c2c2b8-a87a-4a08-851c-5aba2ada41af",
   "metadata": {},
   "source": [
    "# Tree Cover Loss 2023 map layers release"
   ]
  },
  {
   "cell_type": "code",
   "execution_count": 1,
   "id": "83fb0a53-d352-4b95-a3d0-6f458301dbe1",
   "metadata": {},
   "outputs": [],
   "source": [
    "import os\n",
    "import json\n",
    "from IPython.display import display\n",
    "import getpass\n",
    "import requests"
   ]
  },
  {
   "cell_type": "code",
   "execution_count": 2,
   "id": "49e5d0f3-1d2a-4563-ad24-bc09e2232211",
   "metadata": {},
   "outputs": [
    {
     "name": "stdout",
     "output_type": "stream",
     "text": [
      "LMI ver. 0.6.2 ready!\n"
     ]
    }
   ],
   "source": [
    "# Pip install LMIPy\n",
    "#!pip install LMIPy\n",
    "#!python setup.py develop \n",
    "\n",
    "from IPython.display import clear_output\n",
    "clear_output()\n",
    "\n",
    "import LMIPy as lmi\n",
    "from LMIPy import utils, dataAPI\n",
    "\n",
    "print(f'LMI ver. {lmi.__version__} ready!')"
   ]
  },
  {
   "cell_type": "code",
   "execution_count": 3,
   "id": "9ff22d21-ffd6-4380-915a-03b43ef61c5d",
   "metadata": {},
   "outputs": [],
   "source": [
    "#email = getpass.getpass('Login email:')\n",
    "email = 'angel.arcones@vizzuality.com'\n",
    "password = getpass.getpass('Login password:')"
   ]
  },
  {
   "cell_type": "code",
   "execution_count": 4,
   "id": "5a845be2-d929-4313-a066-2f140ed354e4",
   "metadata": {},
   "outputs": [],
   "source": [
    "payload = {\n",
    "    \"email\": f\"{email}\",\n",
    "    \"password\": f\"{password}\"\n",
    "}\n",
    "\n",
    "url = f'https://api.resourcewatch.org/auth/login'\n",
    "\n",
    "headers = {'Content-Type': 'application/json'}\n",
    "\n",
    "r = requests.post(url, data=json.dumps(payload), headers=headers)\n",
    "\n",
    "API_TOKEN = r.json().get('data').get('token')"
   ]
  },
  {
   "cell_type": "code",
   "execution_count": 19,
   "id": "942d8cd2",
   "metadata": {},
   "outputs": [
    {
     "data": {
      "text/html": [
       "<div class='item_container' style='height: auto; overflow: hidden; border: 3px solid #2BA4A0;border-radius: 2px; background: #fff; line-height: 1.21429em; padding: 10px;''><div class='item_left' style='width: 210px;  float: left;''><a href='https://resourcewatch.org/' target='_blank'><img class='itemThumbnail' src='https://resourcewatch.org/static/images/logo-embed.png'></a></div><div class='item_right' style='float: none; width: auto; hidden;padding-left: 10px; overflow: hidden;''><b>0. </b><a href=https://api.resourcewatch.org/v1/dataset/646b12d7-ef86-4070-993a-e24fb00220e0?filterIncludesByEnv=true&includes=vocabulary,metadata,layer,widget&env=production target='_blank'><b>Peru forest concessions (LM v3) (v202404)</b></a><br>Production Dataset in GFW.<br> Carto table: <a href=https://wri-01.carto.com/tables/concesion_forestal target='_blank'>concesion_forestal</a><br>Last Modified: 2024-05-17T12:30:15.486Z<br><a href='https://api.resourcewatch.org/v1/fields/646b12d7-ef86-4070-993a-e24fb00220e0' target='_blank'>Fields</a> | Connector: cartodb | Published: True </div> </div><p></p><div class='item_container' style='height: auto; overflow: hidden; border: 3px solid #2BA4A0;border-radius: 2px; background: #fff; line-height: 1.21429em; padding: 10px;''><div class='item_left' style='width: 210px;  float: left;''><a href='https://resourcewatch.org/' target='_blank'><img class='itemThumbnail' src='https://resourcewatch.org/static/images/logo-embed.png'></a></div><div class='item_right' style='float: none; width: auto; hidden;padding-left: 10px; overflow: hidden;''><b>1. </b><a href=https://api.resourcewatch.org/v1/dataset/68d3d9bd-28ac-409b-8bb5-7a49b268fc58?filterIncludesByEnv=true&includes=vocabulary,metadata,layer,widget&env=production target='_blank'><b>Peru forest concessions (LM v3)(DEPRECATED)</b></a><br>Production Dataset in GFW.<br> Carto table: <a href=https://wri-01.carto.com/tables/concesion_forestal target='_blank'>concesion_forestal</a><br>Last Modified: 2023-01-12T15:05:30.178Z<br><a href='https://api.resourcewatch.org/v1/fields/68d3d9bd-28ac-409b-8bb5-7a49b268fc58' target='_blank'>Fields</a> | Connector: cartodb | Published: False </div> </div><p></p><div class='item_container' style='height: auto; overflow: hidden; border: 3px solid #2BA4A0;border-radius: 2px; background: #fff; line-height: 1.21429em; padding: 10px;''><div class='item_left' style='width: 210px;  float: left;''><a href='https://resourcewatch.org/' target='_blank'><img class='itemThumbnail' src='https://resourcewatch.org/static/images/logo-embed.png'></a></div><div class='item_right' style='float: none; width: auto; hidden;padding-left: 10px; overflow: hidden;''><b>2. </b><a href=https://api.resourcewatch.org/v1/dataset/a8583af8-8472-41cb-b3ff-4f637b5f6183?filterIncludesByEnv=true&includes=vocabulary,metadata,layer,widget&env=production target='_blank'><b>Peru forest concessions (LM v3)(v202301)</b></a><br>Production Dataset in GFW.<br> Carto table: <a href=https://wri-01.carto.com/tables/concesion_forestal target='_blank'>concesion_forestal</a><br>Last Modified: 2023-01-12T15:05:25.272Z<br><a href='https://api.resourcewatch.org/v1/fields/a8583af8-8472-41cb-b3ff-4f637b5f6183' target='_blank'>Fields</a> | Connector: cartodb | Published: True </div> </div><p></p><div class='item_container' style='height: auto; overflow: hidden; border: 3px solid #2BA4A0;border-radius: 2px; background: #fff; line-height: 1.21429em; padding: 10px;''><div class='item_left' style='width: 210px;  float: left;''><a href='https://resourcewatch.org/' target='_blank'><img class='itemThumbnail' src='https://resourcewatch.org/static/images/logo-embed.png'></a></div><div class='item_right' style='float: none; width: auto; hidden;padding-left: 10px; overflow: hidden;''><b>3. </b><a href=https://api.resourcewatch.org/v1/dataset/43abbefa-f9db-48e8-b72e-000343acfdf8?filterIncludesByEnv=true&includes=vocabulary,metadata,layer,widget&env=production target='_blank'><b>Peru permanent production forests (LM v3)(DEPRECATED)</b></a><br>Production Dataset in GFW.<br> Carto table: <a href=https://wri-01.carto.com/tables/per_permanent_production_forests target='_blank'>per_permanent_production_forests</a><br>Last Modified: 2023-01-11T08:26:10.354Z<br><a href='https://api.resourcewatch.org/v1/fields/43abbefa-f9db-48e8-b72e-000343acfdf8' target='_blank'>Fields</a> | Connector: cartodb | Published: False </div> </div><p></p><div class='item_container' style='height: auto; overflow: hidden; border: 3px solid #2BA4A0;border-radius: 2px; background: #fff; line-height: 1.21429em; padding: 10px;''><div class='item_left' style='width: 210px;  float: left;''><a href='https://resourcewatch.org/' target='_blank'><img class='itemThumbnail' src='https://resourcewatch.org/static/images/logo-embed.png'></a></div><div class='item_right' style='float: none; width: auto; hidden;padding-left: 10px; overflow: hidden;''><b>4. </b><a href=https://api.resourcewatch.org/v1/dataset/6d8dd933-30ec-4b9b-b7ec-993505329003?filterIncludesByEnv=true&includes=vocabulary,metadata,layer,widget&env=production target='_blank'><b>Peru permanent production forests (LM v3)(v202301)</b></a><br>Production Dataset in GFW.<br> Carto table: <a href=https://wri-01.carto.com/tables/per_permanent_production_forests target='_blank'>per_permanent_production_forests</a><br>Last Modified: 2023-01-11T08:26:06.909Z<br><a href='https://api.resourcewatch.org/v1/fields/6d8dd933-30ec-4b9b-b7ec-993505329003' target='_blank'>Fields</a> | Connector: cartodb | Published: True </div> </div><p></p><div class='item_container' style='height: auto; overflow: hidden; border: 3px solid #2BA4A0;border-radius: 2px; background: #fff; line-height: 1.21429em; padding: 10px;''><div class='item_left' style='width: 210px;  float: left;''><a href='https://resourcewatch.org/' target='_blank'><img class='itemThumbnail' src='https://resourcewatch.org/static/images/logo-embed.png'></a></div><div class='item_right' style='float: none; width: auto; hidden;padding-left: 10px; overflow: hidden;''><b>5. </b><a href=https://api.resourcewatch.org/v1/dataset/40a79fd8-341f-4631-8640-c7a77d22e99f?filterIncludesByEnv=true&includes=vocabulary,metadata,layer,widget&env=production target='_blank'><b>Peru protected areas (LM v3)</b></a><br>Production Dataset in GFW.<br> Carto table: <a href=https://wri-01.carto.com/tables/per_protected_areas target='_blank'>per_protected_areas</a><br>Last Modified: 2020-03-31T08:30:18.753Z<br><a href='https://api.resourcewatch.org/v1/fields/40a79fd8-341f-4631-8640-c7a77d22e99f' target='_blank'>Fields</a> | Connector: cartodb | Published: True </div> </div>"
      ],
      "text/plain": [
       "[0. Dataset 646b12d7-ef86-4070-993a-e24fb00220e0 Peru forest concessions (LM v3) (v202404),\n",
       " 1. Dataset 68d3d9bd-28ac-409b-8bb5-7a49b268fc58 Peru forest concessions (LM v3)(DEPRECATED),\n",
       " 2. Dataset a8583af8-8472-41cb-b3ff-4f637b5f6183 Peru forest concessions (LM v3)(v202301),\n",
       " 3. Dataset 43abbefa-f9db-48e8-b72e-000343acfdf8 Peru permanent production forests (LM v3)(DEPRECATED),\n",
       " 4. Dataset 6d8dd933-30ec-4b9b-b7ec-993505329003 Peru permanent production forests (LM v3)(v202301),\n",
       " 5. Dataset 40a79fd8-341f-4631-8640-c7a77d22e99f Peru protected areas (LM v3)"
      ]
     },
     "execution_count": 19,
     "metadata": {},
     "output_type": "execute_result"
    }
   ],
   "source": [
    "search_term = 'peru'\n",
    "app = ['gfw']\n",
    "env = 'staging'\n",
    "env = 'production'\n",
    "#object_type = ['layer', 'dataset']\n",
    "object_type = 'dataset' #search for dataset only\n",
    "collection = lmi.Collection(search=search_term, app=app, env=env, object_type=object_type)\n",
    "collection"
   ]
  },
  {
   "attachments": {},
   "cell_type": "markdown",
   "id": "0767f4f5",
   "metadata": {},
   "source": [
    "## 1) Tree Cover Loss"
   ]
  },
  {
   "cell_type": "code",
   "execution_count": 15,
   "id": "cd47885c",
   "metadata": {},
   "outputs": [
    {
     "data": {
      "text/html": [
       "<div class='item_container' style='height: auto; overflow: hidden; border: 3px solid #2BA4A0;border-radius: 2px; background: #fff; line-height: 1.21429em; padding: 10px;''><div class='item_left' style='width: 210px; float: left;''><a href='https://resourcewatch.org/' target='_blank'><img class='itemThumbnail' src='https://resourcewatch.org/static/images/logo-embed.png'></a></div><div class='item_right' style='float: none; width: auto; hidden;padding-left: 10px; overflow: hidden;''><a href=https://api.resourcewatch.org/v1/dataset/c3776df2-01b4-436c-9320-8caa0b1a73bd?filterIncludesByEnv=true&includes=vocabulary,metadata,layer,widget&env=staging target='_blank'><b>Tree cover loss - 2001-2023</b></a><br>Staging Dataset in GFW.<br> GEE asset: <a href='https://code.earthengine.google.com/asset='projects/wri-datalab/HansenComposite_17 target='_blank'>projects/wri-datalab/HansenComposite_17</a><br>Last Modified: 2024-03-06T15:51:01.151Z<br><a href='https://api.resourcewatch.org/v1/fields/c3776df2-01b4-436c-9320-8caa0b1a73bd' target='_blank'>Fields</a> Connector: gee | Published: True </div> </div>"
      ],
      "text/plain": [
       "Dataset c3776df2-01b4-436c-9320-8caa0b1a73bd Tree cover loss - 2001-2023"
      ]
     },
     "execution_count": 15,
     "metadata": {},
     "output_type": "execute_result"
    }
   ],
   "source": [
    "ds_staging = lmi.Dataset('c3776df2-01b4-436c-9320-8caa0b1a73bd')\n",
    "ds_staging"
   ]
  },
  {
   "cell_type": "code",
   "execution_count": 11,
   "id": "6034827d",
   "metadata": {},
   "outputs": [
    {
     "data": {
      "text/html": [
       "<div class='item_container' style='height: auto; overflow: hidden; border: 3px solid #2BA4A0;border-radius: 2px; background: #fff; line-height: 1.21429em; padding: 10px;''><div class='item_left' style='width: 210px; float: left;''><a href='https://resourcewatch.org/' target='_blank'><img class='itemThumbnail' src='https://resourcewatch.org/static/images/logo-embed.png'></a></div><div class='item_right' style='float: none; width: auto; hidden;padding-left: 10px; overflow: hidden;''><a href=https://api.resourcewatch.org/v1/dataset/30ec7d3d-1047-4e11-a765-785cead8375a?filterIncludesByEnv=true&includes=vocabulary,metadata,layer,widget&env=production target='_blank'><b>Tree cover loss 2021 (LM v3) (DEPRECATED)</b></a><br>Production Dataset in GFW.<br> GEE asset: <a href='https://code.earthengine.google.com/asset='projects/wri-datalab/HansenComposite_17 target='_blank'>projects/wri-datalab/HansenComposite_17</a><br>Last Modified: 2024-04-03T15:54:14.580Z<br><a href='https://api.resourcewatch.org/v1/fields/30ec7d3d-1047-4e11-a765-785cead8375a' target='_blank'>Fields</a> Connector: gee | Published: True </div> </div>"
      ],
      "text/plain": [
       "Dataset 30ec7d3d-1047-4e11-a765-785cead8375a Tree cover loss 2021 (LM v3) (DEPRECATED)"
      ]
     },
     "execution_count": 11,
     "metadata": {},
     "output_type": "execute_result"
    }
   ],
   "source": [
    "ds_prod = lmi.Dataset('30ec7d3d-1047-4e11-a765-785cead8375a')\n",
    "ds_prod"
   ]
  },
  {
   "cell_type": "code",
   "execution_count": 17,
   "id": "edc7d5b6",
   "metadata": {},
   "outputs": [
    {
     "name": "stdout",
     "output_type": "stream",
     "text": [
      "Creating clone dataset: https://api.resourcewatch.org/v1/dataset\n",
      "https://api.resourcewatch.org/dataset/4bba87a3-46d7-4aba-8699-ec630994c2ce\n",
      "Creating clone layer on target dataset\n",
      "https://api.resourcewatch.org/v1/dataset/4bba87a3-46d7-4aba-8699-ec630994c2ce/layer/1606e8b6-6158-4c00-8593-e9f35cc3e731\n",
      "No child widgets to clone!\n",
      "Vocabulary categoryTab created.\n",
      "Vocabulary layer_manager_ver created.\n",
      "Vocabulary gfw_env created.\n",
      "Metadata created.\n"
     ]
    },
    {
     "data": {
      "text/html": [
       "<div class='item_container' style='height: auto; overflow: hidden; border: 3px solid #2BA4A0;border-radius: 2px; background: #fff; line-height: 1.21429em; padding: 10px;''><div class='item_left' style='width: 210px; float: left;''><a href='https://resourcewatch.org/' target='_blank'><img class='itemThumbnail' src='https://resourcewatch.org/static/images/logo-embed.png'></a></div><div class='item_right' style='float: none; width: auto; hidden;padding-left: 10px; overflow: hidden;''><a href=https://api.resourcewatch.org/v1/dataset/4bba87a3-46d7-4aba-8699-ec630994c2ce?filterIncludesByEnv=true&includes=vocabulary,metadata,layer,widget&env=production target='_blank'><b>Tree cover loss 2023 (LM v3) (v202404)</b></a><br>Production Dataset in GFW.<br> GEE asset: <a href='https://code.earthengine.google.com/asset='projects/wri-datalab/HansenComposite_17 target='_blank'>projects/wri-datalab/HansenComposite_17</a><br>Last Modified: 2024-04-03T15:52:50.173Z<br><a href='https://api.resourcewatch.org/v1/fields/4bba87a3-46d7-4aba-8699-ec630994c2ce' target='_blank'>Fields</a> Connector: gee | Published: True </div> </div>"
      ],
      "text/plain": [
       "Dataset 4bba87a3-46d7-4aba-8699-ec630994c2ce Tree cover loss 2023 (LM v3) (v202404)"
      ]
     },
     "execution_count": 17,
     "metadata": {},
     "output_type": "execute_result"
    }
   ],
   "source": [
    "dataset_name = 'Tree cover loss 2023 (LM v3) (v202404)'\n",
    "\n",
    "\n",
    "ds_clone = ds_staging.clone(\n",
    "    token=API_TOKEN,\n",
    "    env='production',\n",
    "    dataset_params={\n",
    "        'name': dataset_name,\n",
    "        'application': ['gfw']\n",
    "    },\n",
    "    clone_children=True\n",
    ")\n",
    "ds_clone.update(update_params={'env':'production'}, token=API_TOKEN)"
   ]
  },
  {
   "cell_type": "code",
   "execution_count": 12,
   "id": "a46aa9b3",
   "metadata": {},
   "outputs": [
    {
     "data": {
      "text/html": [
       "<div class='item_container' style='height: auto; overflow: hidden; border: 3px solid #2BA4A0;border-radius: 2px; background: #fff; line-height: 1.21429em; padding: 10px;''><div class='item_left' style='width: 210px; float: left;''><a href='https://resourcewatch.org/' target='_blank'><img class='itemThumbnail' src='https://resourcewatch.org/static/images/logo-embed.png'></a></div><div class='item_right' style='float: none; width: auto; hidden;padding-left: 10px; overflow: hidden;''><a href=https://api.resourcewatch.org/v1/dataset/4bba87a3-46d7-4aba-8699-ec630994c2ce?filterIncludesByEnv=true&includes=vocabulary,metadata,layer,widget&env=production target='_blank'><b>Tree cover loss 2023 (LM v3) (v202404)</b></a><br>Production Dataset in GFW.<br> GEE asset: <a href='https://code.earthengine.google.com/asset='projects/wri-datalab/HansenComposite_17 target='_blank'>projects/wri-datalab/HansenComposite_17</a><br>Last Modified: 2024-04-03T15:54:01.037Z<br><a href='https://api.resourcewatch.org/v1/fields/4bba87a3-46d7-4aba-8699-ec630994c2ce' target='_blank'>Fields</a> Connector: gee | Published: False </div> </div>"
      ],
      "text/plain": [
       "Dataset 4bba87a3-46d7-4aba-8699-ec630994c2ce Tree cover loss 2023 (LM v3) (v202404)"
      ]
     },
     "execution_count": 12,
     "metadata": {},
     "output_type": "execute_result"
    }
   ],
   "source": [
    "ds_clone = lmi.Dataset('4bba87a3-46d7-4aba-8699-ec630994c2ce')\n",
    "ds_clone"
   ]
  },
  {
   "cell_type": "code",
   "execution_count": 13,
   "id": "3b798982",
   "metadata": {},
   "outputs": [
    {
     "data": {
      "text/html": [
       "<div class='item_container' style='height: auto; overflow: hidden; border: 3px solid #2BA4A0;border-radius: 2px; background: #fff; line-height: 1.21429em; padding: 10px;''><div class='item_left' style='width: 210px; float: left;''><a href='https://resourcewatch.org/' target='_blank'><img class='itemThumbnail' src='https://resourcewatch.org/static/images/logo-embed.png'></a></div><div class='item_right' style='float: none; width: auto; hidden;padding-left: 10px; overflow: hidden;''><a href=https://api.resourcewatch.org/v1/dataset/4bba87a3-46d7-4aba-8699-ec630994c2ce?filterIncludesByEnv=true&includes=vocabulary,metadata,layer,widget&env=production target='_blank'><b>Tree cover loss 2023 (LM v3) (v202404)</b></a><br>Production Dataset in GFW.<br> GEE asset: <a href='https://code.earthengine.google.com/asset='projects/wri-datalab/HansenComposite_17 target='_blank'>projects/wri-datalab/HansenComposite_17</a><br>Last Modified: 2024-04-04T04:00:05.609Z<br><a href='https://api.resourcewatch.org/v1/fields/4bba87a3-46d7-4aba-8699-ec630994c2ce' target='_blank'>Fields</a> Connector: gee | Published: True </div> </div>"
      ],
      "text/plain": [
       "Dataset 4bba87a3-46d7-4aba-8699-ec630994c2ce Tree cover loss 2023 (LM v3) (v202404)"
      ]
     },
     "execution_count": 13,
     "metadata": {},
     "output_type": "execute_result"
    }
   ],
   "source": [
    "ds_clone.update(update_params={\n",
    "    'published':True}, token=API_TOKEN)"
   ]
  },
  {
   "cell_type": "code",
   "execution_count": 14,
   "id": "ac42b8a3",
   "metadata": {},
   "outputs": [
    {
     "data": {
      "text/html": [
       "<div class='item_container' style='height: auto; overflow: hidden; border: 3px solid #2BA4A0;border-radius: 2px; background: #fff; line-height: 1.21429em; padding: 10px;''><div class='item_left' style='width: 210px; float: left;''><a href='https://resourcewatch.org/' target='_blank'><img class='itemThumbnail' src='https://resourcewatch.org/static/images/logo-embed.png'></a></div><div class='item_right' style='float: none; width: auto; hidden;padding-left: 10px; overflow: hidden;''><a href=https://api.resourcewatch.org/v1/dataset/30ec7d3d-1047-4e11-a765-785cead8375a?filterIncludesByEnv=true&includes=vocabulary,metadata,layer,widget&env=production target='_blank'><b>Tree cover loss 2021 (LM v3) (DEPRECATED)</b></a><br>Production Dataset in GFW.<br> GEE asset: <a href='https://code.earthengine.google.com/asset='projects/wri-datalab/HansenComposite_17 target='_blank'>projects/wri-datalab/HansenComposite_17</a><br>Last Modified: 2024-04-04T04:00:08.475Z<br><a href='https://api.resourcewatch.org/v1/fields/30ec7d3d-1047-4e11-a765-785cead8375a' target='_blank'>Fields</a> Connector: gee | Published: False </div> </div>"
      ],
      "text/plain": [
       "Dataset 30ec7d3d-1047-4e11-a765-785cead8375a Tree cover loss 2021 (LM v3) (DEPRECATED)"
      ]
     },
     "execution_count": 14,
     "metadata": {},
     "output_type": "execute_result"
    }
   ],
   "source": [
    "ds_prod.update(update_params={\n",
    "    'name': 'Tree cover loss 2021 (LM v3) (DEPRECATED)',\n",
    "    'published':False}, token=API_TOKEN)"
   ]
  },
  {
   "cell_type": "code",
   "execution_count": null,
   "id": "d3b2f7a8",
   "metadata": {},
   "outputs": [],
   "source": []
  },
  {
   "attachments": {},
   "cell_type": "markdown",
   "id": "295fdb1d",
   "metadata": {},
   "source": [
    "## 2) TCL Fires"
   ]
  },
  {
   "cell_type": "code",
   "execution_count": 21,
   "id": "0dda66f6",
   "metadata": {},
   "outputs": [
    {
     "data": {
      "text/html": [
       "<div class='item_container' style='height: auto; overflow: hidden; border: 3px solid #2BA4A0;border-radius: 2px; background: #fff; line-height: 1.21429em; padding: 10px;''><div class='item_left' style='width: 210px; float: left;''><a href='https://resourcewatch.org/' target='_blank'><img class='itemThumbnail' src='https://resourcewatch.org/static/images/logo-embed.png'></a></div><div class='item_right' style='float: none; width: auto; hidden;padding-left: 10px; overflow: hidden;''><a href=https://api.resourcewatch.org/v1/dataset/e3df0fca-e230-40c1-9fac-d7ad40df2b31?filterIncludesByEnv=true&includes=vocabulary,metadata,layer,widget&env=staging target='_blank'><b>Tree cover loss due to fires (v202304) STAGING</b></a><br>Staging Dataset in GFW.<br> GEE asset: <a href='https://code.earthengine.google.com/asset='projects/wri-datalab/HansenComposite_17 target='_blank'>projects/wri-datalab/HansenComposite_17</a><br>Last Modified: 2024-04-02T15:27:58.202Z<br><a href='https://api.resourcewatch.org/v1/fields/e3df0fca-e230-40c1-9fac-d7ad40df2b31' target='_blank'>Fields</a> Connector: gee | Published: True </div> </div>"
      ],
      "text/plain": [
       "Dataset e3df0fca-e230-40c1-9fac-d7ad40df2b31 Tree cover loss due to fires (v202304) STAGING"
      ]
     },
     "execution_count": 21,
     "metadata": {},
     "output_type": "execute_result"
    }
   ],
   "source": [
    "ds_staging = lmi.Dataset('e3df0fca-e230-40c1-9fac-d7ad40df2b31')\n",
    "ds_staging"
   ]
  },
  {
   "cell_type": "code",
   "execution_count": 15,
   "id": "22cc7ab5",
   "metadata": {},
   "outputs": [
    {
     "data": {
      "text/html": [
       "<div class='item_container' style='height: auto; overflow: hidden; border: 3px solid #2BA4A0;border-radius: 2px; background: #fff; line-height: 1.21429em; padding: 10px;''><div class='item_left' style='width: 210px; float: left;''><a href='https://resourcewatch.org/' target='_blank'><img class='itemThumbnail' src='https://resourcewatch.org/static/images/logo-embed.png'></a></div><div class='item_right' style='float: none; width: auto; hidden;padding-left: 10px; overflow: hidden;''><a href=https://api.resourcewatch.org/v1/dataset/15d4af69-3316-400a-8c50-e9306e93fe85?filterIncludesByEnv=true&includes=vocabulary,metadata,layer,widget&env=production target='_blank'><b>Tree cover loss due to fires (LM v3) (DEPRECATED)</b></a><br>Production Dataset in GFW.<br> GEE asset: <a href='https://code.earthengine.google.com/asset='projects/wri-datalab/HansenComposite_17 target='_blank'>projects/wri-datalab/HansenComposite_17</a><br>Last Modified: 2024-04-02T15:33:51.503Z<br><a href='https://api.resourcewatch.org/v1/fields/15d4af69-3316-400a-8c50-e9306e93fe85' target='_blank'>Fields</a> Connector: gee | Published: True </div> </div>"
      ],
      "text/plain": [
       "Dataset 15d4af69-3316-400a-8c50-e9306e93fe85 Tree cover loss due to fires (LM v3) (DEPRECATED)"
      ]
     },
     "execution_count": 15,
     "metadata": {},
     "output_type": "execute_result"
    }
   ],
   "source": [
    "ds_prod = lmi.Dataset('15d4af69-3316-400a-8c50-e9306e93fe85')\n",
    "ds_prod"
   ]
  },
  {
   "cell_type": "code",
   "execution_count": 12,
   "id": "7e3ee276",
   "metadata": {},
   "outputs": [
    {
     "name": "stdout",
     "output_type": "stream",
     "text": [
      "Creating clone dataset: https://api.resourcewatch.org/v1/dataset\n",
      "https://api.resourcewatch.org/dataset/a856c898-9ee0-4c0c-9e31-3f2813e3f230\n",
      "Creating clone layer on target dataset\n",
      "https://api.resourcewatch.org/v1/dataset/a856c898-9ee0-4c0c-9e31-3f2813e3f230/layer/3e4ac910-19c4-46f9-893f-dc40023d2834\n",
      "No child widgets to clone!\n",
      "Vocabulary layer_manager_ver created.\n",
      "Vocabulary gfw_env created.\n",
      "Vocabulary categoryTab created.\n",
      "Metadata created.\n"
     ]
    },
    {
     "data": {
      "text/html": [
       "<div class='item_container' style='height: auto; overflow: hidden; border: 3px solid #2BA4A0;border-radius: 2px; background: #fff; line-height: 1.21429em; padding: 10px;''><div class='item_left' style='width: 210px; float: left;''><a href='https://resourcewatch.org/' target='_blank'><img class='itemThumbnail' src='https://resourcewatch.org/static/images/logo-embed.png'></a></div><div class='item_right' style='float: none; width: auto; hidden;padding-left: 10px; overflow: hidden;''><a href=https://api.resourcewatch.org/v1/dataset/a856c898-9ee0-4c0c-9e31-3f2813e3f230?filterIncludesByEnv=true&includes=vocabulary,metadata,layer,widget&env=production target='_blank'><b>Tree cover loss due to fires (LM v3) (v202404)</b></a><br>Production Dataset in GFW.<br> GEE asset: <a href='https://code.earthengine.google.com/asset='projects/wri-datalab/HansenComposite_17 target='_blank'>projects/wri-datalab/HansenComposite_17</a><br>Last Modified: 2024-04-02T15:25:22.145Z<br><a href='https://api.resourcewatch.org/v1/fields/a856c898-9ee0-4c0c-9e31-3f2813e3f230' target='_blank'>Fields</a> Connector: gee | Published: True </div> </div>"
      ],
      "text/plain": [
       "Dataset a856c898-9ee0-4c0c-9e31-3f2813e3f230 Tree cover loss due to fires (LM v3) (v202404)"
      ]
     },
     "execution_count": 12,
     "metadata": {},
     "output_type": "execute_result"
    }
   ],
   "source": [
    "dataset_name = 'Tree cover loss due to fires (LM v3) (v202404)'\n",
    "\n",
    "\n",
    "ds_clone = ds_staging.clone(\n",
    "    token=API_TOKEN,\n",
    "    dataset_params={\n",
    "        'name': dataset_name,\n",
    "        'application': ['gfw']\n",
    "    },\n",
    "    clone_children=True\n",
    ")\n",
    "ds_clone.update(update_params={'env':'production'}, token=API_TOKEN)"
   ]
  },
  {
   "cell_type": "code",
   "execution_count": 16,
   "id": "590e1fe9",
   "metadata": {},
   "outputs": [
    {
     "data": {
      "text/html": [
       "<div class='item_container' style='height: auto; overflow: hidden; border: 3px solid #2BA4A0;border-radius: 2px; background: #fff; line-height: 1.21429em; padding: 10px;''><div class='item_left' style='width: 210px; float: left;''><a href='https://resourcewatch.org/' target='_blank'><img class='itemThumbnail' src='https://resourcewatch.org/static/images/logo-embed.png'></a></div><div class='item_right' style='float: none; width: auto; hidden;padding-left: 10px; overflow: hidden;''><a href=https://api.resourcewatch.org/v1/dataset/a856c898-9ee0-4c0c-9e31-3f2813e3f230?filterIncludesByEnv=true&includes=vocabulary,metadata,layer,widget&env=production target='_blank'><b>Tree cover loss due to fires (LM v3) (v202404)</b></a><br>Production Dataset in GFW.<br> GEE asset: <a href='https://code.earthengine.google.com/asset='projects/wri-datalab/HansenComposite_17 target='_blank'>projects/wri-datalab/HansenComposite_17</a><br>Last Modified: 2024-04-02T15:33:58.604Z<br><a href='https://api.resourcewatch.org/v1/fields/a856c898-9ee0-4c0c-9e31-3f2813e3f230' target='_blank'>Fields</a> Connector: gee | Published: False </div> </div>"
      ],
      "text/plain": [
       "Dataset a856c898-9ee0-4c0c-9e31-3f2813e3f230 Tree cover loss due to fires (LM v3) (v202404)"
      ]
     },
     "execution_count": 16,
     "metadata": {},
     "output_type": "execute_result"
    }
   ],
   "source": [
    "ds_clone = lmi.Dataset('a856c898-9ee0-4c0c-9e31-3f2813e3f230')\n",
    "ds_clone"
   ]
  },
  {
   "cell_type": "code",
   "execution_count": 17,
   "id": "a841d678",
   "metadata": {},
   "outputs": [
    {
     "data": {
      "text/html": [
       "<div class='item_container' style='height: auto; overflow: hidden; border: 3px solid #2BA4A0;border-radius: 2px; background: #fff; line-height: 1.21429em; padding: 10px;''><div class='item_left' style='width: 210px; float: left;''><a href='https://resourcewatch.org/' target='_blank'><img class='itemThumbnail' src='https://resourcewatch.org/static/images/logo-embed.png'></a></div><div class='item_right' style='float: none; width: auto; hidden;padding-left: 10px; overflow: hidden;''><a href=https://api.resourcewatch.org/v1/dataset/a856c898-9ee0-4c0c-9e31-3f2813e3f230?filterIncludesByEnv=true&includes=vocabulary,metadata,layer,widget&env=production target='_blank'><b>Tree cover loss due to fires (LM v3) (v202404)</b></a><br>Production Dataset in GFW.<br> GEE asset: <a href='https://code.earthengine.google.com/asset='projects/wri-datalab/HansenComposite_17 target='_blank'>projects/wri-datalab/HansenComposite_17</a><br>Last Modified: 2024-04-04T04:00:28.569Z<br><a href='https://api.resourcewatch.org/v1/fields/a856c898-9ee0-4c0c-9e31-3f2813e3f230' target='_blank'>Fields</a> Connector: gee | Published: True </div> </div>"
      ],
      "text/plain": [
       "Dataset a856c898-9ee0-4c0c-9e31-3f2813e3f230 Tree cover loss due to fires (LM v3) (v202404)"
      ]
     },
     "execution_count": 17,
     "metadata": {},
     "output_type": "execute_result"
    }
   ],
   "source": [
    "ds_clone.update(update_params={\n",
    "    'published':True}, token=API_TOKEN)"
   ]
  },
  {
   "cell_type": "code",
   "execution_count": 18,
   "id": "efe3ab96",
   "metadata": {},
   "outputs": [
    {
     "data": {
      "text/html": [
       "<div class='item_container' style='height: auto; overflow: hidden; border: 3px solid #2BA4A0;border-radius: 2px; background: #fff; line-height: 1.21429em; padding: 10px;''><div class='item_left' style='width: 210px; float: left;''><a href='https://resourcewatch.org/' target='_blank'><img class='itemThumbnail' src='https://resourcewatch.org/static/images/logo-embed.png'></a></div><div class='item_right' style='float: none; width: auto; hidden;padding-left: 10px; overflow: hidden;''><a href=https://api.resourcewatch.org/v1/dataset/15d4af69-3316-400a-8c50-e9306e93fe85?filterIncludesByEnv=true&includes=vocabulary,metadata,layer,widget&env=production target='_blank'><b>Tree cover loss due to fires (LM v3) (DEPRECATED)</b></a><br>Production Dataset in GFW.<br> GEE asset: <a href='https://code.earthengine.google.com/asset='projects/wri-datalab/HansenComposite_17 target='_blank'>projects/wri-datalab/HansenComposite_17</a><br>Last Modified: 2024-04-04T04:00:33.598Z<br><a href='https://api.resourcewatch.org/v1/fields/15d4af69-3316-400a-8c50-e9306e93fe85' target='_blank'>Fields</a> Connector: gee | Published: False </div> </div>"
      ],
      "text/plain": [
       "Dataset 15d4af69-3316-400a-8c50-e9306e93fe85 Tree cover loss due to fires (LM v3) (DEPRECATED)"
      ]
     },
     "execution_count": 18,
     "metadata": {},
     "output_type": "execute_result"
    }
   ],
   "source": [
    "ds_prod.update(update_params={\n",
    "    'name': 'Tree cover loss due to fires (LM v3) (DEPRECATED)',\n",
    "    'published':False}, token=API_TOKEN)"
   ]
  },
  {
   "attachments": {},
   "cell_type": "markdown",
   "id": "6c1a6e59",
   "metadata": {},
   "source": [
    "## 3) Emerging hotspots"
   ]
  },
  {
   "cell_type": "code",
   "execution_count": 24,
   "id": "a2ccb108",
   "metadata": {},
   "outputs": [
    {
     "data": {
      "text/html": [
       "<div class='item_container' style='height: auto; overflow: hidden; border: 3px solid #2BA4A0;border-radius: 2px; background: #fff; line-height: 1.21429em; padding: 10px;''><div class='item_left' style='width: 210px; float: left;''><a href='https://resourcewatch.org/' target='_blank'><img class='itemThumbnail' src='https://resourcewatch.org/static/images/logo-embed.png'></a></div><div class='item_right' style='float: none; width: auto; hidden;padding-left: 10px; overflow: hidden;''><a href=https://api.resourcewatch.org/v1/dataset/ba358b27-0d86-41cf-a141-260357ed25f3?filterIncludesByEnv=true&includes=vocabulary,metadata,layer,widget&env=staging target='_blank'><b>Emerging hot spots 2002-2022 (LM v3) STAGING</b></a><br>Staging Dataset in GFW.<br> Carto table: <a href=https://wri-01.carto.com/tables/ehs_2019_final target='_blank'>ehs_2019_final</a><br>Last Modified: 2023-04-17T09:07:21.140Z<br><a href='https://api.resourcewatch.org/v1/fields/ba358b27-0d86-41cf-a141-260357ed25f3' target='_blank'>Fields</a> Connector: cartodb | Published: True </div> </div>"
      ],
      "text/plain": [
       "Dataset ba358b27-0d86-41cf-a141-260357ed25f3 Emerging hot spots 2002-2022 (LM v3) STAGING"
      ]
     },
     "execution_count": 24,
     "metadata": {},
     "output_type": "execute_result"
    }
   ],
   "source": [
    "ds_staging = lmi.Dataset('ba358b27-0d86-41cf-a141-260357ed25f3')\n",
    "ds_staging"
   ]
  },
  {
   "cell_type": "code",
   "execution_count": 19,
   "id": "3fa84eaf",
   "metadata": {},
   "outputs": [
    {
     "data": {
      "text/html": [
       "<div class='item_container' style='height: auto; overflow: hidden; border: 3px solid #2BA4A0;border-radius: 2px; background: #fff; line-height: 1.21429em; padding: 10px;''><div class='item_left' style='width: 210px; float: left;''><a href='https://resourcewatch.org/' target='_blank'><img class='itemThumbnail' src='https://resourcewatch.org/static/images/logo-embed.png'></a></div><div class='item_right' style='float: none; width: auto; hidden;padding-left: 10px; overflow: hidden;''><a href=https://api.resourcewatch.org/v1/dataset/d37bb7cf-f97f-432f-b23c-519fa8abec13?filterIncludesByEnv=true&includes=vocabulary,metadata,layer,widget&env=production target='_blank'><b>Emerging hot spots 2002-2022 (LM v3) (DEPRECATED)</b></a><br>Production Dataset in GFW.<br> Carto table: <a href=https://wri-01.carto.com/tables/ehs_2019_final target='_blank'>ehs_2019_final</a><br>Last Modified: 2024-04-03T15:58:49.566Z<br><a href='https://api.resourcewatch.org/v1/fields/d37bb7cf-f97f-432f-b23c-519fa8abec13' target='_blank'>Fields</a> Connector: cartodb | Published: True </div> </div>"
      ],
      "text/plain": [
       "Dataset d37bb7cf-f97f-432f-b23c-519fa8abec13 Emerging hot spots 2002-2022 (LM v3) (DEPRECATED)"
      ]
     },
     "execution_count": 19,
     "metadata": {},
     "output_type": "execute_result"
    }
   ],
   "source": [
    "ds_prod = lmi.Dataset('d37bb7cf-f97f-432f-b23c-519fa8abec13')\n",
    "ds_prod"
   ]
  },
  {
   "cell_type": "code",
   "execution_count": 26,
   "id": "8546dc3a",
   "metadata": {},
   "outputs": [
    {
     "name": "stdout",
     "output_type": "stream",
     "text": [
      "Creating clone dataset: https://api.resourcewatch.org/v1/dataset\n",
      "https://api.resourcewatch.org/dataset/edf56420-fa36-4590-8219-2a0209e87b9e\n",
      "Creating clone layer on target dataset\n",
      "https://api.resourcewatch.org/v1/dataset/edf56420-fa36-4590-8219-2a0209e87b9e/layer/84f5ca07-2663-43b7-9009-441a4cb253cc\n",
      "No child widgets to clone!\n",
      "Vocabulary categoryTab created.\n",
      "Vocabulary layer_manager_ver created.\n",
      "Vocabulary gfw_env created.\n",
      "Metadata created.\n"
     ]
    },
    {
     "data": {
      "text/html": [
       "<div class='item_container' style='height: auto; overflow: hidden; border: 3px solid #2BA4A0;border-radius: 2px; background: #fff; line-height: 1.21429em; padding: 10px;''><div class='item_left' style='width: 210px; float: left;''><a href='https://resourcewatch.org/' target='_blank'><img class='itemThumbnail' src='https://resourcewatch.org/static/images/logo-embed.png'></a></div><div class='item_right' style='float: none; width: auto; hidden;padding-left: 10px; overflow: hidden;''><a href=https://api.resourcewatch.org/v1/dataset/edf56420-fa36-4590-8219-2a0209e87b9e?filterIncludesByEnv=true&includes=vocabulary,metadata,layer,widget&env=production target='_blank'><b>Emerging hot spots 2002-2023 (LM v3) (v202404)</b></a><br>Production Dataset in GFW.<br> Carto table: <a href=https://wri-01.carto.com/tables/ehs_2019_final target='_blank'>ehs_2019_final</a><br>Last Modified: 2024-04-03T15:57:34.392Z<br><a href='https://api.resourcewatch.org/v1/fields/edf56420-fa36-4590-8219-2a0209e87b9e' target='_blank'>Fields</a> Connector: cartodb | Published: True </div> </div>"
      ],
      "text/plain": [
       "Dataset edf56420-fa36-4590-8219-2a0209e87b9e Emerging hot spots 2002-2023 (LM v3) (v202404)"
      ]
     },
     "execution_count": 26,
     "metadata": {},
     "output_type": "execute_result"
    }
   ],
   "source": [
    "dataset_name = 'Emerging hot spots 2002-2023 (LM v3) (v202404)'\n",
    "\n",
    "\n",
    "ds_clone = ds_staging.clone(\n",
    "    token=API_TOKEN,\n",
    "    env='production',\n",
    "    dataset_params={\n",
    "        'name': dataset_name,\n",
    "        'application': ['gfw']\n",
    "    },\n",
    "    clone_children=True\n",
    ")\n",
    "ds_clone.update(update_params={'env':'production'}, token=API_TOKEN)"
   ]
  },
  {
   "cell_type": "code",
   "execution_count": 20,
   "id": "6384bec7",
   "metadata": {},
   "outputs": [
    {
     "data": {
      "text/html": [
       "<div class='item_container' style='height: auto; overflow: hidden; border: 3px solid #2BA4A0;border-radius: 2px; background: #fff; line-height: 1.21429em; padding: 10px;''><div class='item_left' style='width: 210px; float: left;''><a href='https://resourcewatch.org/' target='_blank'><img class='itemThumbnail' src='https://resourcewatch.org/static/images/logo-embed.png'></a></div><div class='item_right' style='float: none; width: auto; hidden;padding-left: 10px; overflow: hidden;''><a href=https://api.resourcewatch.org/v1/dataset/edf56420-fa36-4590-8219-2a0209e87b9e?filterIncludesByEnv=true&includes=vocabulary,metadata,layer,widget&env=production target='_blank'><b>Emerging hot spots 2002-2023 (LM v3) (v202404)</b></a><br>Production Dataset in GFW.<br> Carto table: <a href=https://wri-01.carto.com/tables/ehs_2019_final target='_blank'>ehs_2019_final</a><br>Last Modified: 2024-04-03T15:58:51.758Z<br><a href='https://api.resourcewatch.org/v1/fields/edf56420-fa36-4590-8219-2a0209e87b9e' target='_blank'>Fields</a> Connector: cartodb | Published: False </div> </div>"
      ],
      "text/plain": [
       "Dataset edf56420-fa36-4590-8219-2a0209e87b9e Emerging hot spots 2002-2023 (LM v3) (v202404)"
      ]
     },
     "execution_count": 20,
     "metadata": {},
     "output_type": "execute_result"
    }
   ],
   "source": [
    "ds_clone = lmi.Dataset('edf56420-fa36-4590-8219-2a0209e87b9e')\n",
    "ds_clone"
   ]
  },
  {
   "cell_type": "code",
   "execution_count": 21,
   "id": "7b80b777",
   "metadata": {},
   "outputs": [
    {
     "data": {
      "text/html": [
       "<div class='item_container' style='height: auto; overflow: hidden; border: 3px solid #2BA4A0;border-radius: 2px; background: #fff; line-height: 1.21429em; padding: 10px;''><div class='item_left' style='width: 210px; float: left;''><a href='https://resourcewatch.org/' target='_blank'><img class='itemThumbnail' src='https://resourcewatch.org/static/images/logo-embed.png'></a></div><div class='item_right' style='float: none; width: auto; hidden;padding-left: 10px; overflow: hidden;''><a href=https://api.resourcewatch.org/v1/dataset/edf56420-fa36-4590-8219-2a0209e87b9e?filterIncludesByEnv=true&includes=vocabulary,metadata,layer,widget&env=production target='_blank'><b>Emerging hot spots 2002-2023 (LM v3) (v202404)</b></a><br>Production Dataset in GFW.<br> Carto table: <a href=https://wri-01.carto.com/tables/ehs_2019_final target='_blank'>ehs_2019_final</a><br>Last Modified: 2024-04-04T04:01:06.822Z<br><a href='https://api.resourcewatch.org/v1/fields/edf56420-fa36-4590-8219-2a0209e87b9e' target='_blank'>Fields</a> Connector: cartodb | Published: True </div> </div>"
      ],
      "text/plain": [
       "Dataset edf56420-fa36-4590-8219-2a0209e87b9e Emerging hot spots 2002-2023 (LM v3) (v202404)"
      ]
     },
     "execution_count": 21,
     "metadata": {},
     "output_type": "execute_result"
    }
   ],
   "source": [
    "ds_clone.update(update_params={\n",
    "    'published':True}, token=API_TOKEN)"
   ]
  },
  {
   "cell_type": "code",
   "execution_count": 22,
   "id": "3dc0d25c",
   "metadata": {},
   "outputs": [
    {
     "data": {
      "text/html": [
       "<div class='item_container' style='height: auto; overflow: hidden; border: 3px solid #2BA4A0;border-radius: 2px; background: #fff; line-height: 1.21429em; padding: 10px;''><div class='item_left' style='width: 210px; float: left;''><a href='https://resourcewatch.org/' target='_blank'><img class='itemThumbnail' src='https://resourcewatch.org/static/images/logo-embed.png'></a></div><div class='item_right' style='float: none; width: auto; hidden;padding-left: 10px; overflow: hidden;''><a href=https://api.resourcewatch.org/v1/dataset/d37bb7cf-f97f-432f-b23c-519fa8abec13?filterIncludesByEnv=true&includes=vocabulary,metadata,layer,widget&env=production target='_blank'><b>Emerging hot spots 2002-2022 (LM v3) (DEPRECATED)</b></a><br>Production Dataset in GFW.<br> Carto table: <a href=https://wri-01.carto.com/tables/ehs_2019_final target='_blank'>ehs_2019_final</a><br>Last Modified: 2024-04-04T04:01:10.126Z<br><a href='https://api.resourcewatch.org/v1/fields/d37bb7cf-f97f-432f-b23c-519fa8abec13' target='_blank'>Fields</a> Connector: cartodb | Published: False </div> </div>"
      ],
      "text/plain": [
       "Dataset d37bb7cf-f97f-432f-b23c-519fa8abec13 Emerging hot spots 2002-2022 (LM v3) (DEPRECATED)"
      ]
     },
     "execution_count": 22,
     "metadata": {},
     "output_type": "execute_result"
    }
   ],
   "source": [
    "ds_prod.update(update_params={\n",
    "    'name': 'Emerging hot spots 2002-2022 (LM v3) (DEPRECATED)',\n",
    "    'published':False}, token=API_TOKEN)"
   ]
  },
  {
   "cell_type": "code",
   "execution_count": 23,
   "id": "8af6e014",
   "metadata": {},
   "outputs": [
    {
     "data": {
      "text/html": [
       "<div class='item_container' style='height: auto; overflow: hidden; border: 3px solid #2BA4A0;border-radius: 2px; background: #fff; line-height: 1.21429em; padding: 10px;''><div class='item_left' style='width: 210px; float: left;''><a href='https://resourcewatch.org/' target='_blank'><img class='itemThumbnail' src='https://resourcewatch.org/static/images/logo-embed.png'></a></div><div class='item_right' style='float: none; width: auto; hidden;padding-left: 10px; overflow: hidden;''><a href=https://api.resourcewatch.org/v1/layer/84f5ca07-2663-43b7-9009-441a4cb253cc?filterIncludesByEnv=true&includes=vocabulary,metadata&env=production target='_blank'><b>Emerging hot spots 2002-2023 (LM v3) STAGING</b></a><br>Production Layer in GFW.<br> Data source vector<br>Last Modified: 2024-04-03T15:57:25.974Z<br><a href='https://api.resourcewatch.org/v1/fields/84f5ca07-2663-43b7-9009-441a4cb253cc' target='_blank'>Fields</a> Connector: vector | Published: True </div> </div>"
      ],
      "text/plain": [
       "Layer 84f5ca07-2663-43b7-9009-441a4cb253cc Emerging hot spots 2002-2023 (LM v3) STAGING"
      ]
     },
     "execution_count": 23,
     "metadata": {},
     "output_type": "execute_result"
    }
   ],
   "source": [
    "lay = ds_clone.layers[0]\n",
    "lay"
   ]
  },
  {
   "cell_type": "code",
   "execution_count": 24,
   "id": "5d0a4b6b",
   "metadata": {},
   "outputs": [
    {
     "data": {
      "text/html": [
       "<div class='item_container' style='height: auto; overflow: hidden; border: 3px solid #2BA4A0;border-radius: 2px; background: #fff; line-height: 1.21429em; padding: 10px;''><div class='item_left' style='width: 210px; float: left;''><a href='https://resourcewatch.org/' target='_blank'><img class='itemThumbnail' src='https://resourcewatch.org/static/images/logo-embed.png'></a></div><div class='item_right' style='float: none; width: auto; hidden;padding-left: 10px; overflow: hidden;''><a href=https://api.resourcewatch.org/v1/layer/84f5ca07-2663-43b7-9009-441a4cb253cc?filterIncludesByEnv=true&includes=vocabulary,metadata&env=production target='_blank'><b>Emerging hot spots 2002-2023</b></a><br>Production Layer in GFW.<br> Data source vector<br>Last Modified: 2024-04-04T04:24:53.845Z<br><a href='https://api.resourcewatch.org/v1/fields/84f5ca07-2663-43b7-9009-441a4cb253cc' target='_blank'>Fields</a> Connector: vector | Published: True </div> </div>"
      ],
      "text/plain": [
       "Layer 84f5ca07-2663-43b7-9009-441a4cb253cc Emerging hot spots 2002-2023"
      ]
     },
     "execution_count": 24,
     "metadata": {},
     "output_type": "execute_result"
    }
   ],
   "source": [
    "lay.update(update_params={'name':'Emerging hot spots 2002-2023'}, token=API_TOKEN)"
   ]
  },
  {
   "attachments": {},
   "cell_type": "markdown",
   "id": "aa045abe",
   "metadata": {},
   "source": [
    "## 4) TCL by Driver"
   ]
  },
  {
   "cell_type": "code",
   "execution_count": 8,
   "id": "d621d9fd",
   "metadata": {},
   "outputs": [
    {
     "data": {
      "text/html": [
       "<div class='item_container' style='height: auto; overflow: hidden; border: 3px solid #2BA4A0;border-radius: 2px; background: #fff; line-height: 1.21429em; padding: 10px;''><div class='item_left' style='width: 210px; float: left;''><a href='https://resourcewatch.org/' target='_blank'><img class='itemThumbnail' src='https://resourcewatch.org/static/images/logo-embed.png'></a></div><div class='item_right' style='float: none; width: auto; hidden;padding-left: 10px; overflow: hidden;''><a href=https://api.resourcewatch.org/v1/dataset/5ee44ec5-1d02-4521-b16d-693f75710bbb?filterIncludesByEnv=true&includes=vocabulary,metadata,layer,widget&env=staging target='_blank'><b>Tree cover loss by dominant driver (LM v3) STAGING</b></a><br>Staging Dataset in GFW.<br> GEE asset: <a href='https://code.earthengine.google.com/asset='projects/wri-datalab/HansenComposite_17 target='_blank'>projects/wri-datalab/HansenComposite_17</a><br>Last Modified: 2022-09-19T14:25:39.312Z<br><a href='https://api.resourcewatch.org/v1/fields/5ee44ec5-1d02-4521-b16d-693f75710bbb' target='_blank'>Fields</a> Connector: gee | Published: True </div> </div>"
      ],
      "text/plain": [
       "Dataset 5ee44ec5-1d02-4521-b16d-693f75710bbb Tree cover loss by dominant driver (LM v3) STAGING"
      ]
     },
     "execution_count": 8,
     "metadata": {},
     "output_type": "execute_result"
    }
   ],
   "source": [
    "ds_staging = lmi.Dataset('5ee44ec5-1d02-4521-b16d-693f75710bbb')\n",
    "ds_staging"
   ]
  },
  {
   "cell_type": "code",
   "execution_count": 9,
   "id": "1af804fc",
   "metadata": {},
   "outputs": [
    {
     "data": {
      "text/html": [
       "<div class='item_container' style='height: auto; overflow: hidden; border: 3px solid #2BA4A0;border-radius: 2px; background: #fff; line-height: 1.21429em; padding: 10px;''><div class='item_left' style='width: 210px; float: left;''><a href='https://resourcewatch.org/' target='_blank'><img class='itemThumbnail' src='https://resourcewatch.org/static/images/logo-embed.png'></a></div><div class='item_right' style='float: none; width: auto; hidden;padding-left: 10px; overflow: hidden;''><a href=https://api.resourcewatch.org/v1/dataset/a78cf392-8952-4beb-8303-e10f38ca9069?filterIncludesByEnv=true&includes=vocabulary,metadata,layer,widget&env=production target='_blank'><b>Tree cover loss by dominant driver (LM v3) (v202306)</b></a><br>Production Dataset in GFW.<br> GEE asset: <a href='https://code.earthengine.google.com/asset='projects/wri-datalab/HansenComposite_17 target='_blank'>projects/wri-datalab/HansenComposite_17</a><br>Last Modified: 2023-06-27T05:33:47.426Z<br><a href='https://api.resourcewatch.org/v1/fields/a78cf392-8952-4beb-8303-e10f38ca9069' target='_blank'>Fields</a> Connector: gee | Published: True </div> </div>"
      ],
      "text/plain": [
       "Dataset a78cf392-8952-4beb-8303-e10f38ca9069 Tree cover loss by dominant driver (LM v3) (v202306)"
      ]
     },
     "execution_count": 9,
     "metadata": {},
     "output_type": "execute_result"
    }
   ],
   "source": [
    "ds_prod = lmi.Dataset('a78cf392-8952-4beb-8303-e10f38ca9069')\n",
    "ds_prod"
   ]
  },
  {
   "cell_type": "code",
   "execution_count": 10,
   "id": "4e9cf438",
   "metadata": {},
   "outputs": [
    {
     "name": "stdout",
     "output_type": "stream",
     "text": [
      "Creating clone dataset: https://api.resourcewatch.org/v1/dataset\n",
      "https://api.resourcewatch.org/dataset/c136243e-35cf-4b2d-8510-8e6e380b7d72\n",
      "Creating clone layer on target dataset\n",
      "https://api.resourcewatch.org/v1/dataset/c136243e-35cf-4b2d-8510-8e6e380b7d72/layer/cc62ec7c-8e3d-47f3-bc1e-24868c1a0cde\n",
      "No child widgets to clone!\n",
      "Vocabulary categoryTab created.\n",
      "Vocabulary layer_manager_ver created.\n",
      "Vocabulary gfw_env created.\n",
      "Metadata created.\n"
     ]
    },
    {
     "data": {
      "text/html": [
       "<div class='item_container' style='height: auto; overflow: hidden; border: 3px solid #2BA4A0;border-radius: 2px; background: #fff; line-height: 1.21429em; padding: 10px;''><div class='item_left' style='width: 210px; float: left;''><a href='https://resourcewatch.org/' target='_blank'><img class='itemThumbnail' src='https://resourcewatch.org/static/images/logo-embed.png'></a></div><div class='item_right' style='float: none; width: auto; hidden;padding-left: 10px; overflow: hidden;''><a href=https://api.resourcewatch.org/v1/dataset/c136243e-35cf-4b2d-8510-8e6e380b7d72?filterIncludesByEnv=true&includes=vocabulary,metadata,layer,widget&env=production target='_blank'><b>Tree cover loss by dominant driver (LM v3) (v202404)</b></a><br>Production Dataset in GFW.<br> GEE asset: <a href='https://code.earthengine.google.com/asset='projects/wri-datalab/HansenComposite_17 target='_blank'>projects/wri-datalab/HansenComposite_17</a><br>Last Modified: 2024-04-23T15:19:12.488Z<br><a href='https://api.resourcewatch.org/v1/fields/c136243e-35cf-4b2d-8510-8e6e380b7d72' target='_blank'>Fields</a> Connector: gee | Published: True </div> </div>"
      ],
      "text/plain": [
       "Dataset c136243e-35cf-4b2d-8510-8e6e380b7d72 Tree cover loss by dominant driver (LM v3) (v202404)"
      ]
     },
     "execution_count": 10,
     "metadata": {},
     "output_type": "execute_result"
    }
   ],
   "source": [
    "dataset_name = 'Tree cover loss by dominant driver (LM v3) (v202404)'\n",
    "\n",
    "\n",
    "ds_clone = ds_staging.clone(\n",
    "    token=API_TOKEN,\n",
    "    env='production',\n",
    "    dataset_params={\n",
    "        'name': dataset_name, \n",
    "        'application': ['gfw']\n",
    "    },\n",
    "    clone_children=True\n",
    ")\n",
    "ds_clone.update(update_params={'env':'production'}, token=API_TOKEN)"
   ]
  },
  {
   "cell_type": "code",
   "execution_count": 12,
   "id": "5c1b4990",
   "metadata": {},
   "outputs": [
    {
     "data": {
      "text/html": [
       "<div class='item_container' style='height: auto; overflow: hidden; border: 3px solid #2BA4A0;border-radius: 2px; background: #fff; line-height: 1.21429em; padding: 10px;''><div class='item_left' style='width: 210px; float: left;''><a href='https://resourcewatch.org/' target='_blank'><img class='itemThumbnail' src='https://resourcewatch.org/static/images/logo-embed.png'></a></div><div class='item_right' style='float: none; width: auto; hidden;padding-left: 10px; overflow: hidden;''><a href=https://api.resourcewatch.org/v1/dataset/a78cf392-8952-4beb-8303-e10f38ca9069?filterIncludesByEnv=true&includes=vocabulary,metadata,layer,widget&env=production target='_blank'><b>Tree cover loss by dominant driver (LM v3) (DEPRECATED)</b></a><br>Production Dataset in GFW.<br> GEE asset: <a href='https://code.earthengine.google.com/asset='projects/wri-datalab/HansenComposite_17 target='_blank'>projects/wri-datalab/HansenComposite_17</a><br>Last Modified: 2024-04-23T15:20:14.538Z<br><a href='https://api.resourcewatch.org/v1/fields/a78cf392-8952-4beb-8303-e10f38ca9069' target='_blank'>Fields</a> Connector: gee | Published: True </div> </div>"
      ],
      "text/plain": [
       "Dataset a78cf392-8952-4beb-8303-e10f38ca9069 Tree cover loss by dominant driver (LM v3) (DEPRECATED)"
      ]
     },
     "execution_count": 12,
     "metadata": {},
     "output_type": "execute_result"
    }
   ],
   "source": [
    "ds_prod.update(update_params={\n",
    "    'name': 'Tree cover loss by dominant driver (LM v3) (DEPRECATED)',\n",
    "    'published':True}, token=API_TOKEN)"
   ]
  },
  {
   "cell_type": "code",
   "execution_count": 15,
   "id": "595f5693",
   "metadata": {},
   "outputs": [
    {
     "data": {
      "text/html": [
       "<div class='item_container' style='height: auto; overflow: hidden; border: 3px solid #2BA4A0;border-radius: 2px; background: #fff; line-height: 1.21429em; padding: 10px;''><div class='item_left' style='width: 210px; float: left;''><a href='https://resourcewatch.org/' target='_blank'><img class='itemThumbnail' src='https://resourcewatch.org/static/images/logo-embed.png'></a></div><div class='item_right' style='float: none; width: auto; hidden;padding-left: 10px; overflow: hidden;''><a href=https://api.resourcewatch.org/v1/dataset/c136243e-35cf-4b2d-8510-8e6e380b7d72?filterIncludesByEnv=true&includes=vocabulary,metadata,layer,widget&env=production target='_blank'><b>Tree cover loss by dominant driver (LM v3) (v202404)</b></a><br>Production Dataset in GFW.<br> GEE asset: <a href='https://code.earthengine.google.com/asset='projects/wri-datalab/HansenComposite_17 target='_blank'>projects/wri-datalab/HansenComposite_17</a><br>Last Modified: 2024-04-23T15:21:06.214Z<br><a href='https://api.resourcewatch.org/v1/fields/c136243e-35cf-4b2d-8510-8e6e380b7d72' target='_blank'>Fields</a> Connector: gee | Published: False </div> </div>"
      ],
      "text/plain": [
       "Dataset c136243e-35cf-4b2d-8510-8e6e380b7d72 Tree cover loss by dominant driver (LM v3) (v202404)"
      ]
     },
     "execution_count": 15,
     "metadata": {},
     "output_type": "execute_result"
    }
   ],
   "source": [
    "ds_clone.update(update_params={'published':False}, token=API_TOKEN)"
   ]
  },
  {
   "attachments": {},
   "cell_type": "markdown",
   "id": "dcaf9619",
   "metadata": {},
   "source": [
    "## 5) Carbon emissions"
   ]
  },
  {
   "cell_type": "code",
   "execution_count": 17,
   "id": "49770ea1",
   "metadata": {},
   "outputs": [
    {
     "data": {
      "text/html": [
       "<div class='item_container' style='height: auto; overflow: hidden; border: 3px solid #2BA4A0;border-radius: 2px; background: #fff; line-height: 1.21429em; padding: 10px;''><div class='item_left' style='width: 210px; float: left;''><a href='https://resourcewatch.org/' target='_blank'><img class='itemThumbnail' src='https://resourcewatch.org/static/images/logo-embed.png'></a></div><div class='item_right' style='float: none; width: auto; hidden;padding-left: 10px; overflow: hidden;''><a href=https://api.resourcewatch.org/v1/dataset/472eb070-20b2-4e3e-89a9-3a27df39344a?filterIncludesByEnv=true&includes=vocabulary,metadata,layer,widget&env=staging target='_blank'><b>Gross Carbon Emissions (LM v3) v202311 STAGING</b></a><br>Staging Dataset in GFW.<br> Data source wms<br>Last Modified: 2024-03-27T17:04:41.113Z<br><a href='https://api.resourcewatch.org/v1/fields/472eb070-20b2-4e3e-89a9-3a27df39344a' target='_blank'>Fields</a> Connector: wms | Published: True </div> </div>"
      ],
      "text/plain": [
       "Dataset 472eb070-20b2-4e3e-89a9-3a27df39344a Gross Carbon Emissions (LM v3) v202311 STAGING"
      ]
     },
     "execution_count": 17,
     "metadata": {},
     "output_type": "execute_result"
    }
   ],
   "source": [
    "ds_staging = lmi.Dataset('472eb070-20b2-4e3e-89a9-3a27df39344a')\n",
    "ds_staging"
   ]
  },
  {
   "cell_type": "code",
   "execution_count": 20,
   "id": "479056e3",
   "metadata": {},
   "outputs": [
    {
     "data": {
      "text/html": [
       "<div class='item_container' style='height: auto; overflow: hidden; border: 3px solid #2BA4A0;border-radius: 2px; background: #fff; line-height: 1.21429em; padding: 10px;''><div class='item_left' style='width: 210px; float: left;''><a href='https://resourcewatch.org/' target='_blank'><img class='itemThumbnail' src='https://resourcewatch.org/static/images/logo-embed.png'></a></div><div class='item_right' style='float: none; width: auto; hidden;padding-left: 10px; overflow: hidden;''><a href=https://api.resourcewatch.org/v1/dataset/de961ce7-6f25-4474-a27a-bc5abbd87336?filterIncludesByEnv=true&includes=vocabulary,metadata,layer,widget&env=production target='_blank'><b>Gross Carbon Emissions (LM v3) (v202306)</b></a><br>Production Dataset in GFW.<br> Data source wms<br>Last Modified: 2023-06-27T05:40:02.072Z<br><a href='https://api.resourcewatch.org/v1/fields/de961ce7-6f25-4474-a27a-bc5abbd87336' target='_blank'>Fields</a> Connector: wms | Published: True </div> </div>"
      ],
      "text/plain": [
       "Dataset de961ce7-6f25-4474-a27a-bc5abbd87336 Gross Carbon Emissions (LM v3) (v202306)"
      ]
     },
     "execution_count": 20,
     "metadata": {},
     "output_type": "execute_result"
    }
   ],
   "source": [
    "ds_prod = lmi.Dataset('de961ce7-6f25-4474-a27a-bc5abbd87336')\n",
    "ds_prod"
   ]
  },
  {
   "cell_type": "code",
   "execution_count": 21,
   "id": "b5d239f6",
   "metadata": {},
   "outputs": [
    {
     "name": "stdout",
     "output_type": "stream",
     "text": [
      "Creating clone dataset: https://api.resourcewatch.org/v1/dataset\n",
      "https://api.resourcewatch.org/dataset/5ab21012-644c-4a06-b118-b462c16b51b1\n",
      "Creating clone layer on target dataset\n",
      "https://api.resourcewatch.org/v1/dataset/5ab21012-644c-4a06-b118-b462c16b51b1/layer/08925e06-787a-48c9-b44b-b2c352e5af54\n",
      "No child widgets to clone!\n",
      "Vocabulary categoryTab created.\n",
      "Vocabulary layer_manager_ver created.\n",
      "Vocabulary gfw_env created.\n",
      "Metadata created.\n"
     ]
    },
    {
     "data": {
      "text/html": [
       "<div class='item_container' style='height: auto; overflow: hidden; border: 3px solid #2BA4A0;border-radius: 2px; background: #fff; line-height: 1.21429em; padding: 10px;''><div class='item_left' style='width: 210px; float: left;''><a href='https://resourcewatch.org/' target='_blank'><img class='itemThumbnail' src='https://resourcewatch.org/static/images/logo-embed.png'></a></div><div class='item_right' style='float: none; width: auto; hidden;padding-left: 10px; overflow: hidden;''><a href=https://api.resourcewatch.org/v1/dataset/5ab21012-644c-4a06-b118-b462c16b51b1?filterIncludesByEnv=true&includes=vocabulary,metadata,layer,widget&env=production target='_blank'><b>Gross Carbon Emissions (LM v3) (v202404)</b></a><br>Production Dataset in GFW.<br> Data source wms<br>Last Modified: 2024-04-23T15:24:35.182Z<br><a href='https://api.resourcewatch.org/v1/fields/5ab21012-644c-4a06-b118-b462c16b51b1' target='_blank'>Fields</a> Connector: wms | Published: True </div> </div>"
      ],
      "text/plain": [
       "Dataset 5ab21012-644c-4a06-b118-b462c16b51b1 Gross Carbon Emissions (LM v3) (v202404)"
      ]
     },
     "execution_count": 21,
     "metadata": {},
     "output_type": "execute_result"
    }
   ],
   "source": [
    "dataset_name = 'Gross Carbon Emissions (LM v3) (v202404)'\n",
    "\n",
    "\n",
    "ds_clone = ds_staging.clone(\n",
    "    token=API_TOKEN,\n",
    "    env='production',\n",
    "    dataset_params={\n",
    "        'name': dataset_name,\n",
    "        'application': ['gfw']\n",
    "    },\n",
    "    clone_children=True\n",
    ")\n",
    "ds_clone.update(update_params={'env':'production'}, token=API_TOKEN)"
   ]
  },
  {
   "cell_type": "code",
   "execution_count": 24,
   "id": "5d73297c",
   "metadata": {},
   "outputs": [
    {
     "data": {
      "text/html": [
       "<div class='item_container' style='height: auto; overflow: hidden; border: 3px solid #2BA4A0;border-radius: 2px; background: #fff; line-height: 1.21429em; padding: 10px;''><div class='item_left' style='width: 210px; float: left;''><a href='https://resourcewatch.org/' target='_blank'><img class='itemThumbnail' src='https://resourcewatch.org/static/images/logo-embed.png'></a></div><div class='item_right' style='float: none; width: auto; hidden;padding-left: 10px; overflow: hidden;''><a href=https://api.resourcewatch.org/v1/dataset/de961ce7-6f25-4474-a27a-bc5abbd87336?filterIncludesByEnv=true&includes=vocabulary,metadata,layer,widget&env=production target='_blank'><b>Gross Carbon Emissions (LM v3) (DEPRECATED)</b></a><br>Production Dataset in GFW.<br> Data source wms<br>Last Modified: 2024-04-23T15:25:38.236Z<br><a href='https://api.resourcewatch.org/v1/fields/de961ce7-6f25-4474-a27a-bc5abbd87336' target='_blank'>Fields</a> Connector: wms | Published: True </div> </div>"
      ],
      "text/plain": [
       "Dataset de961ce7-6f25-4474-a27a-bc5abbd87336 Gross Carbon Emissions (LM v3) (DEPRECATED)"
      ]
     },
     "execution_count": 24,
     "metadata": {},
     "output_type": "execute_result"
    }
   ],
   "source": [
    "ds_prod.update(update_params={\n",
    "    'name': 'Gross Carbon Emissions (LM v3) (DEPRECATED)',\n",
    "    'published':True}, token=API_TOKEN)"
   ]
  },
  {
   "cell_type": "code",
   "execution_count": 23,
   "id": "46430c2f",
   "metadata": {},
   "outputs": [
    {
     "data": {
      "text/html": [
       "<div class='item_container' style='height: auto; overflow: hidden; border: 3px solid #2BA4A0;border-radius: 2px; background: #fff; line-height: 1.21429em; padding: 10px;''><div class='item_left' style='width: 210px; float: left;''><a href='https://resourcewatch.org/' target='_blank'><img class='itemThumbnail' src='https://resourcewatch.org/static/images/logo-embed.png'></a></div><div class='item_right' style='float: none; width: auto; hidden;padding-left: 10px; overflow: hidden;''><a href=https://api.resourcewatch.org/v1/dataset/5ab21012-644c-4a06-b118-b462c16b51b1?filterIncludesByEnv=true&includes=vocabulary,metadata,layer,widget&env=production target='_blank'><b>Gross Carbon Emissions (LM v3) (v202404)</b></a><br>Production Dataset in GFW.<br> Data source wms<br>Last Modified: 2024-04-23T15:25:34.911Z<br><a href='https://api.resourcewatch.org/v1/fields/5ab21012-644c-4a06-b118-b462c16b51b1' target='_blank'>Fields</a> Connector: wms | Published: False </div> </div>"
      ],
      "text/plain": [
       "Dataset 5ab21012-644c-4a06-b118-b462c16b51b1 Gross Carbon Emissions (LM v3) (v202404)"
      ]
     },
     "execution_count": 23,
     "metadata": {},
     "output_type": "execute_result"
    }
   ],
   "source": [
    "ds_clone.update(update_params={'published':False}, token=API_TOKEN)"
   ]
  },
  {
   "attachments": {},
   "cell_type": "markdown",
   "id": "bb30ccae",
   "metadata": {},
   "source": [
    "## 6) Carbon removals"
   ]
  },
  {
   "cell_type": "code",
   "execution_count": 12,
   "id": "169e5687",
   "metadata": {},
   "outputs": [
    {
     "data": {
      "text/html": [
       "<div class='item_container' style='height: auto; overflow: hidden; border: 3px solid #2BA4A0;border-radius: 2px; background: #fff; line-height: 1.21429em; padding: 10px;''><div class='item_left' style='width: 210px; float: left;''><a href='https://resourcewatch.org/' target='_blank'><img class='itemThumbnail' src='https://resourcewatch.org/static/images/logo-embed.png'></a></div><div class='item_right' style='float: none; width: auto; hidden;padding-left: 10px; overflow: hidden;''><a href=https://api.resourcewatch.org/v1/dataset/388e758f-d5be-45f7-9283-8885502a3699?filterIncludesByEnv=true&includes=vocabulary,metadata,layer,widget&env=staging target='_blank'><b>Gross Carbon Removals (LM v3) v202311 STAGING</b></a><br>Staging Dataset in GFW.<br> Data source wms<br>Last Modified: 2024-03-07T15:50:56.130Z<br><a href='https://api.resourcewatch.org/v1/fields/388e758f-d5be-45f7-9283-8885502a3699' target='_blank'>Fields</a> Connector: wms | Published: True </div> </div>"
      ],
      "text/plain": [
       "Dataset 388e758f-d5be-45f7-9283-8885502a3699 Gross Carbon Removals (LM v3) v202311 STAGING"
      ]
     },
     "execution_count": 12,
     "metadata": {},
     "output_type": "execute_result"
    }
   ],
   "source": [
    "ds_staging = lmi.Dataset('388e758f-d5be-45f7-9283-8885502a3699')\n",
    "ds_staging"
   ]
  },
  {
   "cell_type": "code",
   "execution_count": 28,
   "id": "93307bbc",
   "metadata": {},
   "outputs": [
    {
     "data": {
      "text/html": [
       "<div class='item_container' style='height: auto; overflow: hidden; border: 3px solid #2BA4A0;border-radius: 2px; background: #fff; line-height: 1.21429em; padding: 10px;''><div class='item_left' style='width: 210px; float: left;''><a href='https://resourcewatch.org/' target='_blank'><img class='itemThumbnail' src='https://resourcewatch.org/static/images/logo-embed.png'></a></div><div class='item_right' style='float: none; width: auto; hidden;padding-left: 10px; overflow: hidden;''><a href=https://api.resourcewatch.org/v1/dataset/d98dffe9-7ea3-46ca-b378-e89a4cd26bce?filterIncludesByEnv=true&includes=vocabulary,metadata,layer,widget&env=production target='_blank'><b>Gross Carbon Removals (LM v3) (v202306)</b></a><br>Production Dataset in GFW.<br> Data source wms<br>Last Modified: 2023-06-27T05:40:56.348Z<br><a href='https://api.resourcewatch.org/v1/fields/d98dffe9-7ea3-46ca-b378-e89a4cd26bce' target='_blank'>Fields</a> Connector: wms | Published: True </div> </div>"
      ],
      "text/plain": [
       "Dataset d98dffe9-7ea3-46ca-b378-e89a4cd26bce Gross Carbon Removals (LM v3) (v202306)"
      ]
     },
     "execution_count": 28,
     "metadata": {},
     "output_type": "execute_result"
    }
   ],
   "source": [
    "ds_prod = lmi.Dataset('d98dffe9-7ea3-46ca-b378-e89a4cd26bce')\n",
    "ds_prod"
   ]
  },
  {
   "cell_type": "code",
   "execution_count": 29,
   "id": "a79e13f0",
   "metadata": {},
   "outputs": [
    {
     "name": "stdout",
     "output_type": "stream",
     "text": [
      "Creating clone dataset: https://api.resourcewatch.org/v1/dataset\n",
      "https://api.resourcewatch.org/dataset/e1718a74-e7b8-42c2-934d-f04fbd715ec7\n",
      "Creating clone layer on target dataset\n",
      "https://api.resourcewatch.org/v1/dataset/e1718a74-e7b8-42c2-934d-f04fbd715ec7/layer/50fbde5f-2ead-4090-98f4-aa1e886fee9f\n",
      "No child widgets to clone!\n",
      "Vocabulary categoryTab created.\n",
      "Vocabulary layer_manager_ver created.\n",
      "Vocabulary gfw_env created.\n",
      "Metadata created.\n"
     ]
    },
    {
     "data": {
      "text/html": [
       "<div class='item_container' style='height: auto; overflow: hidden; border: 3px solid #2BA4A0;border-radius: 2px; background: #fff; line-height: 1.21429em; padding: 10px;''><div class='item_left' style='width: 210px; float: left;''><a href='https://resourcewatch.org/' target='_blank'><img class='itemThumbnail' src='https://resourcewatch.org/static/images/logo-embed.png'></a></div><div class='item_right' style='float: none; width: auto; hidden;padding-left: 10px; overflow: hidden;''><a href=https://api.resourcewatch.org/v1/dataset/e1718a74-e7b8-42c2-934d-f04fbd715ec7?filterIncludesByEnv=true&includes=vocabulary,metadata,layer,widget&env=production target='_blank'><b>Gross Carbon Removals (LM v3) (v202404)</b></a><br>Production Dataset in GFW.<br> Data source wms<br>Last Modified: 2024-04-23T15:27:21.606Z<br><a href='https://api.resourcewatch.org/v1/fields/e1718a74-e7b8-42c2-934d-f04fbd715ec7' target='_blank'>Fields</a> Connector: wms | Published: True </div> </div>"
      ],
      "text/plain": [
       "Dataset e1718a74-e7b8-42c2-934d-f04fbd715ec7 Gross Carbon Removals (LM v3) (v202404)"
      ]
     },
     "execution_count": 29,
     "metadata": {},
     "output_type": "execute_result"
    }
   ],
   "source": [
    "dataset_name = 'Gross Carbon Removals (LM v3) (v202404)'\n",
    "\n",
    "\n",
    "ds_clone = ds_staging.clone(\n",
    "    token=API_TOKEN,\n",
    "    env='production',\n",
    "    dataset_params={\n",
    "        'name': dataset_name,\n",
    "        'application': ['gfw']\n",
    "    },\n",
    "    clone_children=True\n",
    ")\n",
    "ds_clone.update(update_params={'env':'production'}, token=API_TOKEN)"
   ]
  },
  {
   "cell_type": "code",
   "execution_count": 32,
   "id": "f04e11dd",
   "metadata": {},
   "outputs": [
    {
     "data": {
      "text/html": [
       "<div class='item_container' style='height: auto; overflow: hidden; border: 3px solid #2BA4A0;border-radius: 2px; background: #fff; line-height: 1.21429em; padding: 10px;''><div class='item_left' style='width: 210px; float: left;''><a href='https://resourcewatch.org/' target='_blank'><img class='itemThumbnail' src='https://resourcewatch.org/static/images/logo-embed.png'></a></div><div class='item_right' style='float: none; width: auto; hidden;padding-left: 10px; overflow: hidden;''><a href=https://api.resourcewatch.org/v1/dataset/d98dffe9-7ea3-46ca-b378-e89a4cd26bce?filterIncludesByEnv=true&includes=vocabulary,metadata,layer,widget&env=production target='_blank'><b>Gross Carbon Removals (LM v3) (DEPRECATED)</b></a><br>Production Dataset in GFW.<br> Data source wms<br>Last Modified: 2024-04-23T15:28:04.999Z<br><a href='https://api.resourcewatch.org/v1/fields/d98dffe9-7ea3-46ca-b378-e89a4cd26bce' target='_blank'>Fields</a> Connector: wms | Published: True </div> </div>"
      ],
      "text/plain": [
       "Dataset d98dffe9-7ea3-46ca-b378-e89a4cd26bce Gross Carbon Removals (LM v3) (DEPRECATED)"
      ]
     },
     "execution_count": 32,
     "metadata": {},
     "output_type": "execute_result"
    }
   ],
   "source": [
    "ds_prod.update(update_params={\n",
    "    'name': 'Gross Carbon Removals (LM v3) (DEPRECATED)',\n",
    "    'published':True}, token=API_TOKEN)"
   ]
  },
  {
   "cell_type": "code",
   "execution_count": 31,
   "id": "eaa94c68",
   "metadata": {},
   "outputs": [
    {
     "data": {
      "text/html": [
       "<div class='item_container' style='height: auto; overflow: hidden; border: 3px solid #2BA4A0;border-radius: 2px; background: #fff; line-height: 1.21429em; padding: 10px;''><div class='item_left' style='width: 210px; float: left;''><a href='https://resourcewatch.org/' target='_blank'><img class='itemThumbnail' src='https://resourcewatch.org/static/images/logo-embed.png'></a></div><div class='item_right' style='float: none; width: auto; hidden;padding-left: 10px; overflow: hidden;''><a href=https://api.resourcewatch.org/v1/dataset/e1718a74-e7b8-42c2-934d-f04fbd715ec7?filterIncludesByEnv=true&includes=vocabulary,metadata,layer,widget&env=production target='_blank'><b>Gross Carbon Removals (LM v3) (v202404)</b></a><br>Production Dataset in GFW.<br> Data source wms<br>Last Modified: 2024-04-23T15:28:03.188Z<br><a href='https://api.resourcewatch.org/v1/fields/e1718a74-e7b8-42c2-934d-f04fbd715ec7' target='_blank'>Fields</a> Connector: wms | Published: False </div> </div>"
      ],
      "text/plain": [
       "Dataset e1718a74-e7b8-42c2-934d-f04fbd715ec7 Gross Carbon Removals (LM v3) (v202404)"
      ]
     },
     "execution_count": 31,
     "metadata": {},
     "output_type": "execute_result"
    }
   ],
   "source": [
    "ds_clone.update(update_params={'published': False}, token=API_TOKEN)"
   ]
  },
  {
   "attachments": {},
   "cell_type": "markdown",
   "id": "7f9d99c6",
   "metadata": {},
   "source": [
    "## 7) Carbon Net Flux"
   ]
  },
  {
   "cell_type": "code",
   "execution_count": 35,
   "id": "b2c8ef15",
   "metadata": {},
   "outputs": [
    {
     "data": {
      "text/html": [
       "<div class='item_container' style='height: auto; overflow: hidden; border: 3px solid #2BA4A0;border-radius: 2px; background: #fff; line-height: 1.21429em; padding: 10px;''><div class='item_left' style='width: 210px; float: left;''><a href='https://resourcewatch.org/' target='_blank'><img class='itemThumbnail' src='https://resourcewatch.org/static/images/logo-embed.png'></a></div><div class='item_right' style='float: none; width: auto; hidden;padding-left: 10px; overflow: hidden;''><a href=https://api.resourcewatch.org/v1/dataset/2b7c7671-4dbd-4175-9d77-8fcb44979060?filterIncludesByEnv=true&includes=vocabulary,metadata,layer,widget&env=staging target='_blank'><b>Net Greenhouse Gas Flux (LM v3) v202403 STAGING</b></a><br>Staging Dataset in GFW.<br> Data source wms<br>Last Modified: 2024-03-27T18:39:30.357Z<br><a href='https://api.resourcewatch.org/v1/fields/2b7c7671-4dbd-4175-9d77-8fcb44979060' target='_blank'>Fields</a> Connector: wms | Published: True </div> </div>"
      ],
      "text/plain": [
       "Dataset 2b7c7671-4dbd-4175-9d77-8fcb44979060 Net Greenhouse Gas Flux (LM v3) v202403 STAGING"
      ]
     },
     "execution_count": 35,
     "metadata": {},
     "output_type": "execute_result"
    }
   ],
   "source": [
    "ds_staging = lmi.Dataset('2b7c7671-4dbd-4175-9d77-8fcb44979060')\n",
    "ds_staging"
   ]
  },
  {
   "cell_type": "code",
   "execution_count": 36,
   "id": "0eb8f4e9",
   "metadata": {},
   "outputs": [
    {
     "data": {
      "text/html": [
       "<div class='item_container' style='height: auto; overflow: hidden; border: 3px solid #2BA4A0;border-radius: 2px; background: #fff; line-height: 1.21429em; padding: 10px;''><div class='item_left' style='width: 210px; float: left;''><a href='https://resourcewatch.org/' target='_blank'><img class='itemThumbnail' src='https://resourcewatch.org/static/images/logo-embed.png'></a></div><div class='item_right' style='float: none; width: auto; hidden;padding-left: 10px; overflow: hidden;''><a href=https://api.resourcewatch.org/v1/dataset/1d51d813-f944-4cfe-b6fa-b2ef3a6d7cce?filterIncludesByEnv=true&includes=vocabulary,metadata,layer,widget&env=production target='_blank'><b>Net Greenhouse Gas Flux (LM v3) (v202306)</b></a><br>Production Dataset in GFW.<br> Data source wms<br>Last Modified: 2023-06-27T05:43:17.811Z<br><a href='https://api.resourcewatch.org/v1/fields/1d51d813-f944-4cfe-b6fa-b2ef3a6d7cce' target='_blank'>Fields</a> Connector: wms | Published: True </div> </div>"
      ],
      "text/plain": [
       "Dataset 1d51d813-f944-4cfe-b6fa-b2ef3a6d7cce Net Greenhouse Gas Flux (LM v3) (v202306)"
      ]
     },
     "execution_count": 36,
     "metadata": {},
     "output_type": "execute_result"
    }
   ],
   "source": [
    "ds_prod = lmi.Dataset('1d51d813-f944-4cfe-b6fa-b2ef3a6d7cce')\n",
    "ds_prod"
   ]
  },
  {
   "cell_type": "code",
   "execution_count": 37,
   "id": "05a63436",
   "metadata": {},
   "outputs": [
    {
     "name": "stdout",
     "output_type": "stream",
     "text": [
      "Creating clone dataset: https://api.resourcewatch.org/v1/dataset\n",
      "https://api.resourcewatch.org/dataset/a9afb583-02b6-4855-a913-a988da68e865\n",
      "Creating clone layer on target dataset\n",
      "https://api.resourcewatch.org/v1/dataset/a9afb583-02b6-4855-a913-a988da68e865/layer/3be8d124-dca2-4f7f-9e85-09a752c81859\n",
      "No child widgets to clone!\n",
      "Vocabulary layer_manager_ver created.\n",
      "Vocabulary categoryTab created.\n",
      "Vocabulary gfw_env created.\n",
      "Metadata created.\n"
     ]
    },
    {
     "data": {
      "text/html": [
       "<div class='item_container' style='height: auto; overflow: hidden; border: 3px solid #2BA4A0;border-radius: 2px; background: #fff; line-height: 1.21429em; padding: 10px;''><div class='item_left' style='width: 210px; float: left;''><a href='https://resourcewatch.org/' target='_blank'><img class='itemThumbnail' src='https://resourcewatch.org/static/images/logo-embed.png'></a></div><div class='item_right' style='float: none; width: auto; hidden;padding-left: 10px; overflow: hidden;''><a href=https://api.resourcewatch.org/v1/dataset/a9afb583-02b6-4855-a913-a988da68e865?filterIncludesByEnv=true&includes=vocabulary,metadata,layer,widget&env=production target='_blank'><b>Net Greenhouse Gas Flux (LM v3) (v202404)</b></a><br>Production Dataset in GFW.<br> Data source wms<br>Last Modified: 2024-04-23T15:29:33.942Z<br><a href='https://api.resourcewatch.org/v1/fields/a9afb583-02b6-4855-a913-a988da68e865' target='_blank'>Fields</a> Connector: wms | Published: True </div> </div>"
      ],
      "text/plain": [
       "Dataset a9afb583-02b6-4855-a913-a988da68e865 Net Greenhouse Gas Flux (LM v3) (v202404)"
      ]
     },
     "execution_count": 37,
     "metadata": {},
     "output_type": "execute_result"
    }
   ],
   "source": [
    "dataset_name = 'Net Greenhouse Gas Flux (LM v3) (v202404)'\n",
    "\n",
    "\n",
    "ds_clone = ds_staging.clone(\n",
    "    token=API_TOKEN,\n",
    "    env='production',\n",
    "    dataset_params={\n",
    "        'name': dataset_name,\n",
    "        'application': ['gfw']\n",
    "    },\n",
    "    clone_children=True\n",
    ")\n",
    "ds_clone.update(update_params={'env':'production'}, token=API_TOKEN)"
   ]
  },
  {
   "cell_type": "code",
   "execution_count": 40,
   "id": "92e258dd",
   "metadata": {},
   "outputs": [
    {
     "data": {
      "text/html": [
       "<div class='item_container' style='height: auto; overflow: hidden; border: 3px solid #2BA4A0;border-radius: 2px; background: #fff; line-height: 1.21429em; padding: 10px;''><div class='item_left' style='width: 210px; float: left;''><a href='https://resourcewatch.org/' target='_blank'><img class='itemThumbnail' src='https://resourcewatch.org/static/images/logo-embed.png'></a></div><div class='item_right' style='float: none; width: auto; hidden;padding-left: 10px; overflow: hidden;''><a href=https://api.resourcewatch.org/v1/dataset/1d51d813-f944-4cfe-b6fa-b2ef3a6d7cce?filterIncludesByEnv=true&includes=vocabulary,metadata,layer,widget&env=production target='_blank'><b>Net Greenhouse Gas Flux (LM v3) (DEPRECATED)</b></a><br>Production Dataset in GFW.<br> Data source wms<br>Last Modified: 2024-04-23T15:30:07.483Z<br><a href='https://api.resourcewatch.org/v1/fields/1d51d813-f944-4cfe-b6fa-b2ef3a6d7cce' target='_blank'>Fields</a> Connector: wms | Published: True </div> </div>"
      ],
      "text/plain": [
       "Dataset 1d51d813-f944-4cfe-b6fa-b2ef3a6d7cce Net Greenhouse Gas Flux (LM v3) (DEPRECATED)"
      ]
     },
     "execution_count": 40,
     "metadata": {},
     "output_type": "execute_result"
    }
   ],
   "source": [
    "ds_prod.update(update_params={\n",
    "    'name': 'Net Greenhouse Gas Flux (LM v3) (DEPRECATED)',\n",
    "    'published':True}, token=API_TOKEN)"
   ]
  },
  {
   "cell_type": "code",
   "execution_count": 39,
   "id": "9b2fe21e",
   "metadata": {},
   "outputs": [
    {
     "data": {
      "text/html": [
       "<div class='item_container' style='height: auto; overflow: hidden; border: 3px solid #2BA4A0;border-radius: 2px; background: #fff; line-height: 1.21429em; padding: 10px;''><div class='item_left' style='width: 210px; float: left;''><a href='https://resourcewatch.org/' target='_blank'><img class='itemThumbnail' src='https://resourcewatch.org/static/images/logo-embed.png'></a></div><div class='item_right' style='float: none; width: auto; hidden;padding-left: 10px; overflow: hidden;''><a href=https://api.resourcewatch.org/v1/dataset/a9afb583-02b6-4855-a913-a988da68e865?filterIncludesByEnv=true&includes=vocabulary,metadata,layer,widget&env=production target='_blank'><b>Net Greenhouse Gas Flux (LM v3) (v202404)</b></a><br>Production Dataset in GFW.<br> Data source wms<br>Last Modified: 2024-04-23T15:30:04.639Z<br><a href='https://api.resourcewatch.org/v1/fields/a9afb583-02b6-4855-a913-a988da68e865' target='_blank'>Fields</a> Connector: wms | Published: False </div> </div>"
      ],
      "text/plain": [
       "Dataset a9afb583-02b6-4855-a913-a988da68e865 Net Greenhouse Gas Flux (LM v3) (v202404)"
      ]
     },
     "execution_count": 39,
     "metadata": {},
     "output_type": "execute_result"
    }
   ],
   "source": [
    "ds_clone.update(update_params={'published':False}, token=API_TOKEN)"
   ]
  },
  {
   "cell_type": "markdown",
   "id": "1add785f",
   "metadata": {},
   "source": [
    "## Peru Forest concessions"
   ]
  },
  {
   "cell_type": "code",
   "execution_count": 14,
   "id": "677e7657",
   "metadata": {},
   "outputs": [
    {
     "data": {
      "text/html": [
       "<div class='item_container' style='height: auto; overflow: hidden; border: 3px solid #2BA4A0;border-radius: 2px; background: #fff; line-height: 1.21429em; padding: 10px;''><div class='item_left' style='width: 210px; float: left;''><a href='https://resourcewatch.org/' target='_blank'><img class='itemThumbnail' src='https://resourcewatch.org/static/images/logo-embed.png'></a></div><div class='item_right' style='float: none; width: auto; hidden;padding-left: 10px; overflow: hidden;''><a href=https://api.resourcewatch.org/v1/dataset/657e86d5-6ae9-4134-bd72-887ac42f8790?filterIncludesByEnv=true&includes=vocabulary,metadata,layer,widget&env=staging target='_blank'><b>Peru forest concessions (LM v3) STAGING</b></a><br>Staging Dataset in GFW.<br> Carto table: <a href=https://wri-01.carto.com/tables/concesion_forestal target='_blank'>concesion_forestal</a><br>Last Modified: 2021-07-28T15:40:36.117Z<br><a href='https://api.resourcewatch.org/v1/fields/657e86d5-6ae9-4134-bd72-887ac42f8790' target='_blank'>Fields</a> Connector: cartodb | Published: True </div> </div>"
      ],
      "text/plain": [
       "Dataset 657e86d5-6ae9-4134-bd72-887ac42f8790 Peru forest concessions (LM v3) STAGING"
      ]
     },
     "execution_count": 14,
     "metadata": {},
     "output_type": "execute_result"
    }
   ],
   "source": [
    "ds_staging = lmi.Dataset('657e86d5-6ae9-4134-bd72-887ac42f8790')\n",
    "ds_staging"
   ]
  },
  {
   "cell_type": "code",
   "execution_count": 18,
   "id": "80ba6d7e",
   "metadata": {},
   "outputs": [
    {
     "name": "stdout",
     "output_type": "stream",
     "text": [
      "Creating clone dataset: https://api.resourcewatch.org/v1/dataset\n",
      "https://api.resourcewatch.org/dataset/646b12d7-ef86-4070-993a-e24fb00220e0\n",
      "Creating clone layer on target dataset\n",
      "https://api.resourcewatch.org/v1/dataset/646b12d7-ef86-4070-993a-e24fb00220e0/layer/23c29f32-5f23-4426-8a3b-53a607fb4eb5\n",
      "Creating clone layer on target dataset\n",
      "https://api.resourcewatch.org/v1/dataset/646b12d7-ef86-4070-993a-e24fb00220e0/layer/994b00f7-428e-4ac1-80f0-aa84bd3627f2\n",
      "No child widgets to clone!\n",
      "Vocabulary categoryTab created.\n",
      "Vocabulary layer_manager_ver created.\n",
      "Vocabulary gfw_env created.\n",
      "Metadata created.\n"
     ]
    },
    {
     "data": {
      "text/html": [
       "<div class='item_container' style='height: auto; overflow: hidden; border: 3px solid #2BA4A0;border-radius: 2px; background: #fff; line-height: 1.21429em; padding: 10px;''><div class='item_left' style='width: 210px; float: left;''><a href='https://resourcewatch.org/' target='_blank'><img class='itemThumbnail' src='https://resourcewatch.org/static/images/logo-embed.png'></a></div><div class='item_right' style='float: none; width: auto; hidden;padding-left: 10px; overflow: hidden;''><a href=https://api.resourcewatch.org/v1/dataset/646b12d7-ef86-4070-993a-e24fb00220e0?filterIncludesByEnv=true&includes=vocabulary,metadata,layer,widget&env=production target='_blank'><b>Peru forest concessions (LM v3) (v202404)</b></a><br>Production Dataset in GFW.<br> Carto table: <a href=https://wri-01.carto.com/tables/concesion_forestal target='_blank'>concesion_forestal</a><br>Last Modified: 2024-05-17T12:30:15.486Z<br><a href='https://api.resourcewatch.org/v1/fields/646b12d7-ef86-4070-993a-e24fb00220e0' target='_blank'>Fields</a> Connector: cartodb | Published: True </div> </div>"
      ],
      "text/plain": [
       "Dataset 646b12d7-ef86-4070-993a-e24fb00220e0 Peru forest concessions (LM v3) (v202404)"
      ]
     },
     "execution_count": 18,
     "metadata": {},
     "output_type": "execute_result"
    }
   ],
   "source": [
    "dataset_name = 'Peru forest concessions (LM v3) (v202404)'\n",
    "\n",
    "\n",
    "ds_clone = ds_staging.clone(\n",
    "    token=API_TOKEN,\n",
    "    env='production',\n",
    "    dataset_params={\n",
    "        'name': dataset_name,\n",
    "        'application': ['gfw']\n",
    "    },\n",
    "    clone_children=True\n",
    ")\n",
    "ds_clone.update(update_params={'env':'production'}, token=API_TOKEN)"
   ]
  },
  {
   "cell_type": "code",
   "execution_count": 20,
   "id": "20a80b31",
   "metadata": {},
   "outputs": [
    {
     "data": {
      "text/html": [
       "<div class='item_container' style='height: auto; overflow: hidden; border: 3px solid #2BA4A0;border-radius: 2px; background: #fff; line-height: 1.21429em; padding: 10px;''><div class='item_left' style='width: 210px; float: left;''><a href='https://resourcewatch.org/' target='_blank'><img class='itemThumbnail' src='https://resourcewatch.org/static/images/logo-embed.png'></a></div><div class='item_right' style='float: none; width: auto; hidden;padding-left: 10px; overflow: hidden;''><a href=https://api.resourcewatch.org/v1/dataset/a8583af8-8472-41cb-b3ff-4f637b5f6183?filterIncludesByEnv=true&includes=vocabulary,metadata,layer,widget&env=production target='_blank'><b>Peru forest concessions (LM v3)(v202301)</b></a><br>Production Dataset in GFW.<br> Carto table: <a href=https://wri-01.carto.com/tables/concesion_forestal target='_blank'>concesion_forestal</a><br>Last Modified: 2023-01-12T15:05:25.272Z<br><a href='https://api.resourcewatch.org/v1/fields/a8583af8-8472-41cb-b3ff-4f637b5f6183' target='_blank'>Fields</a> Connector: cartodb | Published: True </div> </div>"
      ],
      "text/plain": [
       "Dataset a8583af8-8472-41cb-b3ff-4f637b5f6183 Peru forest concessions (LM v3)(v202301)"
      ]
     },
     "execution_count": 20,
     "metadata": {},
     "output_type": "execute_result"
    }
   ],
   "source": [
    "ds_prod = lmi.Dataset('a8583af8-8472-41cb-b3ff-4f637b5f6183')\n",
    "ds_prod"
   ]
  },
  {
   "cell_type": "code",
   "execution_count": 21,
   "id": "34d69422",
   "metadata": {},
   "outputs": [
    {
     "data": {
      "text/html": [
       "<div class='item_container' style='height: auto; overflow: hidden; border: 3px solid #2BA4A0;border-radius: 2px; background: #fff; line-height: 1.21429em; padding: 10px;''><div class='item_left' style='width: 210px; float: left;''><a href='https://resourcewatch.org/' target='_blank'><img class='itemThumbnail' src='https://resourcewatch.org/static/images/logo-embed.png'></a></div><div class='item_right' style='float: none; width: auto; hidden;padding-left: 10px; overflow: hidden;''><a href=https://api.resourcewatch.org/v1/dataset/a8583af8-8472-41cb-b3ff-4f637b5f6183?filterIncludesByEnv=true&includes=vocabulary,metadata,layer,widget&env=production target='_blank'><b>Peru forest concessions (LM v3) (v202301 DEPRECATED)</b></a><br>Production Dataset in GFW.<br> Carto table: <a href=https://wri-01.carto.com/tables/concesion_forestal target='_blank'>concesion_forestal</a><br>Last Modified: 2024-05-17T12:33:23.086Z<br><a href='https://api.resourcewatch.org/v1/fields/a8583af8-8472-41cb-b3ff-4f637b5f6183' target='_blank'>Fields</a> Connector: cartodb | Published: False </div> </div>"
      ],
      "text/plain": [
       "Dataset a8583af8-8472-41cb-b3ff-4f637b5f6183 Peru forest concessions (LM v3) (v202301 DEPRECATED)"
      ]
     },
     "execution_count": 21,
     "metadata": {},
     "output_type": "execute_result"
    }
   ],
   "source": [
    "ds_prod.update(update_params={'name': 'Peru forest concessions (LM v3) (v202301 DEPRECATED)', 'published':False}, token=API_TOKEN)"
   ]
  },
  {
   "cell_type": "code",
   "execution_count": 12,
   "id": "5d477911",
   "metadata": {},
   "outputs": [
    {
     "data": {
      "text/html": [
       "<div class='item_container' style='height: auto; overflow: hidden; border: 3px solid #2BA4A0;border-radius: 2px; background: #fff; line-height: 1.21429em; padding: 10px;''><div class='item_left' style='width: 210px; float: left;''><a href='https://resourcewatch.org/' target='_blank'><img class='itemThumbnail' src='https://resourcewatch.org/static/images/logo-embed.png'></a></div><div class='item_right' style='float: none; width: auto; hidden;padding-left: 10px; overflow: hidden;''><a href=https://api.resourcewatch.org/v1/dataset/9afe3c84-6ea4-4cd3-8162-59d5ec3606d6?filterIncludesByEnv=true&includes=vocabulary,metadata,layer,widget&env=production target='_blank'><b>Peru forest concessions (LM v3) (v202404)</b></a><br>Production Dataset in GFW.<br> Carto table: <a href=https://wri-01.carto.com/tables/concesion_forestal target='_blank'>concesion_forestal</a><br>Last Modified: 2024-04-30T16:02:16.570Z<br><a href='https://api.resourcewatch.org/v1/fields/9afe3c84-6ea4-4cd3-8162-59d5ec3606d6' target='_blank'>Fields</a> Connector: cartodb | Published: False </div> </div>"
      ],
      "text/plain": [
       "Dataset 9afe3c84-6ea4-4cd3-8162-59d5ec3606d6 Peru forest concessions (LM v3) (v202404)"
      ]
     },
     "execution_count": 12,
     "metadata": {},
     "output_type": "execute_result"
    }
   ],
   "source": [
    "ds_clone.update(update_params={'published':False}, token=API_TOKEN)"
   ]
  },
  {
   "cell_type": "code",
   "execution_count": null,
   "id": "feb9e93c",
   "metadata": {},
   "outputs": [],
   "source": []
  }
 ],
 "metadata": {
  "interpreter": {
   "hash": "2a9ac8d5dd6905b6db348871184a65dd2dfdf9210270a3ede0635c6e864e6650"
  },
  "kernelspec": {
   "display_name": "Python 3.9.7 ('gfw')",
   "language": "python",
   "name": "python3"
  },
  "language_info": {
   "codemirror_mode": {
    "name": "ipython",
    "version": 3
   },
   "file_extension": ".py",
   "mimetype": "text/x-python",
   "name": "python",
   "nbconvert_exporter": "python",
   "pygments_lexer": "ipython3",
   "version": "3.9.7"
  }
 },
 "nbformat": 4,
 "nbformat_minor": 5
}
