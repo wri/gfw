{
 "cells": [
  {
   "attachments": {},
   "cell_type": "markdown",
   "id": "d5c2c2b8-a87a-4a08-851c-5aba2ada41af",
   "metadata": {},
   "source": [
    "# Map Layer Update: EXAMPLE\n",
    "\n",
    "This notebook serves as template and guidance for some common updates on map layers: tile cache, decode function, legend and other descriptions...  \n",
    "\n",
    "Here, these tasks are performed using [LMIpy](https://lmipy.readthedocs.io/en/latest/), the tool developed by **Vizzuality** to interact with [Resource Watch API](http://api.resourcewatch.org/) assets. These actions and changes could also be done by other API interaction methods, such as Python `requests` library or Postman\n",
    "\n"
   ]
  },
  {
   "attachments": {},
   "cell_type": "markdown",
   "id": "53549ee8",
   "metadata": {},
   "source": [
    "### Load libraries"
   ]
  },
  {
   "cell_type": "code",
   "execution_count": 1,
   "id": "83fb0a53-d352-4b95-a3d0-6f458301dbe1",
   "metadata": {},
   "outputs": [],
   "source": [
    "import os\n",
    "import json\n",
    "import geopandas as gpd\n",
    "from IPython.display import display\n",
    "import getpass\n",
    "import requests"
   ]
  },
  {
   "cell_type": "code",
   "execution_count": 2,
   "id": "49e5d0f3-1d2a-4563-ad24-bc09e2232211",
   "metadata": {},
   "outputs": [
    {
     "name": "stdout",
     "output_type": "stream",
     "text": [
      "LMI ver. 0.6.2 ready!\n"
     ]
    }
   ],
   "source": [
    "# Install LMIpy if needed\n",
    "#!pip install LMIPy\n",
    "#!python setup.py develop \n",
    "\n",
    "from IPython.display import clear_output\n",
    "clear_output()\n",
    "\n",
    "import LMIPy as lmi\n",
    "from LMIPy import utils, dataAPI\n",
    "\n",
    "print(f'LMI ver. {lmi.__version__} ready!')"
   ]
  },
  {
   "attachments": {},
   "cell_type": "markdown",
   "id": "83e64ae3",
   "metadata": {},
   "source": [
    "##  Authentication \n",
    "To modify Resource Watch API's assets, the user needs a RW API account ([see here on creation](https://resource-watch.github.io/doc-api/quickstart.html#2-create-an-account-with-the-rw-api)) with editor privileges, and use it to retrieve the API token key."
   ]
  },
  {
   "cell_type": "code",
   "execution_count": 3,
   "id": "9ff22d21-ffd6-4380-915a-03b43ef61c5d",
   "metadata": {},
   "outputs": [],
   "source": [
    "email = getpass.getpass('Login email:')\n",
    "password = getpass.getpass('Login password:')"
   ]
  },
  {
   "cell_type": "code",
   "execution_count": 4,
   "id": "5a845be2-d929-4313-a066-2f140ed354e4",
   "metadata": {},
   "outputs": [],
   "source": [
    "payload = {\n",
    "    \"email\": f\"{email}\",\n",
    "    \"password\": f\"{password}\"\n",
    "}\n",
    "\n",
    "url = f'https://api.resourcewatch.org/auth/login'\n",
    "\n",
    "headers = {'Content-Type': 'application/json'}\n",
    "\n",
    "r = requests.post(url, data=json.dumps(payload), headers=headers)\n",
    "\n",
    "API_TOKEN = r.json().get('data').get('token')"
   ]
  },
  {
   "attachments": {},
   "cell_type": "markdown",
   "id": "a184af9b",
   "metadata": {},
   "source": [
    "## Get dataset of interest  \n",
    "Datasets can contain one or more layers, and included higher-level attributes. It is suggested to first retrieve the dataset containing the layer to modify, and then access the layer.  \n",
    "\n",
    "To find the desired dataset, we search it using LMIpy and defining:  \n",
    "- a keyword to search  \n",
    "- the app it belongs to (gfw in this case)  \n",
    "- the type of asset (dataset, layer or both)  \n",
    "- the environment (staging, preproduction or production)"
   ]
  },
  {
   "attachments": {},
   "cell_type": "markdown",
   "id": "e35f3505-c5bd-4fd7-915c-146965b23288",
   "metadata": {},
   "source": [
    "**Find staging dataset**"
   ]
  },
  {
   "cell_type": "code",
   "execution_count": 5,
   "id": "0ea5aae2-6019-4bf5-a6b9-46a9dacbe4ca",
   "metadata": {},
   "outputs": [
    {
     "data": {
      "text/html": [
       "<div class='item_container' style='height: auto; overflow: hidden; border: 3px solid #2BA4A0;border-radius: 2px; background: #fff; line-height: 1.21429em; padding: 10px;''><div class='item_left' style='width: 210px;  float: left;''><a href='https://resourcewatch.org/' target='_blank'><img class='itemThumbnail' src='https://resourcewatch.org/static/images/logo-embed.png'></a></div><div class='item_right' style='float: none; width: auto; hidden;padding-left: 10px; overflow: hidden;''><b>0. </b><a href=https://api.resourcewatch.org/v1/dataset/4820ad38-92d3-46b7-88e4-323306e720c6?filterIncludesByEnv=true&includes=vocabulary,metadata,layer,widget&env=staging target='_blank'><b>Tree cover loss 2020 (LM v3)</b></a><br>Staging Dataset in GFW.<br> GEE asset: <a href='https://code.earthengine.google.com/asset='projects/wri-datalab/HansenComposite_17 target='_blank'>projects/wri-datalab/HansenComposite_17</a><br>Last Modified: 2021-03-31T04:22:24.333Z<br><a href='https://api.resourcewatch.org/v1/fields/4820ad38-92d3-46b7-88e4-323306e720c6' target='_blank'>Fields</a> | Connector: gee | Published: False </div> </div><p></p><div class='item_container' style='height: auto; overflow: hidden; border: 3px solid #2BA4A0;border-radius: 2px; background: #fff; line-height: 1.21429em; padding: 10px;''><div class='item_left' style='width: 210px;  float: left;''><a href='https://resourcewatch.org/' target='_blank'><img class='itemThumbnail' src='https://resourcewatch.org/static/images/logo-embed.png'></a></div><div class='item_right' style='float: none; width: auto; hidden;padding-left: 10px; overflow: hidden;''><b>1. </b><a href=https://api.resourcewatch.org/v1/dataset/30ec7d3d-1047-4e11-a765-785cead8375a?filterIncludesByEnv=true&includes=vocabulary,metadata,layer,widget&env=staging target='_blank'><b>Tree cover loss 2021 (LM v3) STAGING</b></a><br>Staging Dataset in GFW.<br> GEE asset: <a href='https://code.earthengine.google.com/asset='projects/wri-datalab/HansenComposite_17 target='_blank'>projects/wri-datalab/HansenComposite_17</a><br>Last Modified: 2022-06-02T15:21:13.909Z<br><a href='https://api.resourcewatch.org/v1/fields/30ec7d3d-1047-4e11-a765-785cead8375a' target='_blank'>Fields</a> | Connector: gee | Published: True </div> </div><p></p><div class='item_container' style='height: auto; overflow: hidden; border: 3px solid #2BA4A0;border-radius: 2px; background: #fff; line-height: 1.21429em; padding: 10px;''><div class='item_left' style='width: 210px;  float: left;''><a href='https://resourcewatch.org/' target='_blank'><img class='itemThumbnail' src='https://resourcewatch.org/static/images/logo-embed.png'></a></div><div class='item_right' style='float: none; width: auto; hidden;padding-left: 10px; overflow: hidden;''><b>2. </b><a href=https://api.resourcewatch.org/v1/dataset/5ee44ec5-1d02-4521-b16d-693f75710bbb?filterIncludesByEnv=true&includes=vocabulary,metadata,layer,widget&env=staging target='_blank'><b>Tree cover loss by dominant driver (LM v3) STAGING</b></a><br>Staging Dataset in GFW.<br> GEE asset: <a href='https://code.earthengine.google.com/asset='projects/wri-datalab/HansenComposite_17 target='_blank'>projects/wri-datalab/HansenComposite_17</a><br>Last Modified: 2022-09-19T14:25:39.312Z<br><a href='https://api.resourcewatch.org/v1/fields/5ee44ec5-1d02-4521-b16d-693f75710bbb' target='_blank'>Fields</a> | Connector: gee | Published: True </div> </div><p></p><div class='item_container' style='height: auto; overflow: hidden; border: 3px solid #2BA4A0;border-radius: 2px; background: #fff; line-height: 1.21429em; padding: 10px;''><div class='item_left' style='width: 210px;  float: left;''><a href='https://resourcewatch.org/' target='_blank'><img class='itemThumbnail' src='https://resourcewatch.org/static/images/logo-embed.png'></a></div><div class='item_right' style='float: none; width: auto; hidden;padding-left: 10px; overflow: hidden;''><b>3. </b><a href=https://api.resourcewatch.org/v1/dataset/1e24c6d9-6735-45ad-b2d3-53419af35eb3?filterIncludesByEnv=true&includes=vocabulary,metadata,layer,widget&env=staging target='_blank'><b>Tree cover loss by dominant driver 2020 (LM v3)</b></a><br>Staging Dataset in GFW.<br> GEE asset: <a href='https://code.earthengine.google.com/asset='projects/wri-datalab/HansenComposite_17 target='_blank'>projects/wri-datalab/HansenComposite_17</a><br>Last Modified: 2020-09-29T08:19:38.812Z<br><a href='https://api.resourcewatch.org/v1/fields/1e24c6d9-6735-45ad-b2d3-53419af35eb3' target='_blank'>Fields</a> | Connector: gee | Published: False </div> </div><p></p><div class='item_container' style='height: auto; overflow: hidden; border: 3px solid #2BA4A0;border-radius: 2px; background: #fff; line-height: 1.21429em; padding: 10px;''><div class='item_left' style='width: 210px;  float: left;''><a href='https://resourcewatch.org/' target='_blank'><img class='itemThumbnail' src='https://resourcewatch.org/static/images/logo-embed.png'></a></div><div class='item_right' style='float: none; width: auto; hidden;padding-left: 10px; overflow: hidden;''><b>4. </b><a href=https://api.resourcewatch.org/v1/dataset/e3df0fca-e230-40c1-9fac-d7ad40df2b31?filterIncludesByEnv=true&includes=vocabulary,metadata,layer,widget&env=staging target='_blank'><b>Tree cover loss due to fires (v202205) STAGING</b></a><br>Staging Dataset in GFW.<br> GEE asset: <a href='https://code.earthengine.google.com/asset='projects/wri-datalab/HansenComposite_17 target='_blank'>projects/wri-datalab/HansenComposite_17</a><br>Last Modified: 2022-05-20T07:19:27.946Z<br><a href='https://api.resourcewatch.org/v1/fields/e3df0fca-e230-40c1-9fac-d7ad40df2b31' target='_blank'>Fields</a> | Connector: gee | Published: True </div> </div><p></p><div class='item_container' style='height: auto; overflow: hidden; border: 3px solid #2BA4A0;border-radius: 2px; background: #fff; line-height: 1.21429em; padding: 10px;''><div class='item_left' style='width: 210px;  float: left;''><a href='https://resourcewatch.org/' target='_blank'><img class='itemThumbnail' src='https://resourcewatch.org/static/images/logo-embed.png'></a></div><div class='item_right' style='float: none; width: auto; hidden;padding-left: 10px; overflow: hidden;''><b>5. </b><a href=https://api.resourcewatch.org/v1/dataset/79bc3d81-2326-4513-9d4f-3ed6f5003231?filterIncludesByEnv=true&includes=vocabulary,metadata,layer,widget&env=staging target='_blank'><b>[TEST] Carbon dioxide emissions from tree cover loss 2020 (LM v3)</b></a><br>Staging Dataset in GFW.<br> Data source wms<br>Last Modified: 2021-02-15T09:46:00.440Z<br><a href='https://api.resourcewatch.org/v1/fields/79bc3d81-2326-4513-9d4f-3ed6f5003231' target='_blank'>Fields</a> | Connector: wms | Published: False </div> </div>"
      ],
      "text/plain": [
       "[0. Dataset 4820ad38-92d3-46b7-88e4-323306e720c6 Tree cover loss 2020 (LM v3),\n",
       " 1. Dataset 30ec7d3d-1047-4e11-a765-785cead8375a Tree cover loss 2021 (LM v3) STAGING,\n",
       " 2. Dataset 5ee44ec5-1d02-4521-b16d-693f75710bbb Tree cover loss by dominant driver (LM v3) STAGING,\n",
       " 3. Dataset 1e24c6d9-6735-45ad-b2d3-53419af35eb3 Tree cover loss by dominant driver 2020 (LM v3),\n",
       " 4. Dataset e3df0fca-e230-40c1-9fac-d7ad40df2b31 Tree cover loss due to fires (v202205) STAGING,\n",
       " 5. Dataset 79bc3d81-2326-4513-9d4f-3ed6f5003231 [TEST] Carbon dioxide emissions from tree cover loss 2020 (LM v3)"
      ]
     },
     "execution_count": 5,
     "metadata": {},
     "output_type": "execute_result"
    }
   ],
   "source": [
    "search_term = 'loss'\n",
    "app = ['gfw']\n",
    "env = 'staging'\n",
    "#object_type = ['layer', 'dataset']\n",
    "object_type = 'dataset' #search for dataset only\n",
    "collection = lmi.Collection(search=search_term, app=app, env=env, object_type=object_type)\n",
    "collection"
   ]
  },
  {
   "cell_type": "markdown",
   "id": "e35f3505-c5bd-4fd7-915c-146965b23288",
   "metadata": {},
   "source": [
    "**Check production datasets for reference**"
   ]
  },
  {
   "cell_type": "code",
   "execution_count": 6,
   "id": "78b1825d-6d23-45fd-82e2-dadb49a5f15a",
   "metadata": {},
   "outputs": [
    {
     "data": {
      "text/html": [
       "<div class='item_container' style='height: auto; overflow: hidden; border: 3px solid #2BA4A0;border-radius: 2px; background: #fff; line-height: 1.21429em; padding: 10px;''><div class='item_left' style='width: 210px;  float: left;''><a href='https://resourcewatch.org/' target='_blank'><img class='itemThumbnail' src='https://resourcewatch.org/static/images/logo-embed.png'></a></div><div class='item_right' style='float: none; width: auto; hidden;padding-left: 10px; overflow: hidden;''><b>0. </b><a href=https://api.resourcewatch.org/v1/dataset/f6c67028-d820-46f3-9190-97cc56e7fef0?filterIncludesByEnv=true&includes=vocabulary,metadata,layer,widget&env=production target='_blank'><b>Carbon dioxide emissions from tree cover loss (LM v3)</b></a><br>Production Dataset in GFW.<br> Data source wms<br>Last Modified: 2021-03-22T14:47:30.453Z<br><a href='https://api.resourcewatch.org/v1/fields/f6c67028-d820-46f3-9190-97cc56e7fef0' target='_blank'>Fields</a> | Connector: wms | Published: False </div> </div><p></p><div class='item_container' style='height: auto; overflow: hidden; border: 3px solid #2BA4A0;border-radius: 2px; background: #fff; line-height: 1.21429em; padding: 10px;''><div class='item_left' style='width: 210px;  float: left;''><a href='https://resourcewatch.org/' target='_blank'><img class='itemThumbnail' src='https://resourcewatch.org/static/images/logo-embed.png'></a></div><div class='item_right' style='float: none; width: auto; hidden;padding-left: 10px; overflow: hidden;''><b>1. </b><a href=https://api.resourcewatch.org/v1/dataset/39e02031-5214-4ff1-806f-23f4485ab2ff?filterIncludesByEnv=true&includes=vocabulary,metadata,layer,widget&env=production target='_blank'><b>Carbon dioxide emissions from tree cover loss in drained peat (LM v3)</b></a><br>Production Dataset in GFW.<br> Carto table: <a href=https://wri-01.carto.com/tables/peatland_drainage target='_blank'>peatland_drainage</a><br>Last Modified: 2021-01-28T10:51:59.140Z<br><a href='https://api.resourcewatch.org/v1/fields/39e02031-5214-4ff1-806f-23f4485ab2ff' target='_blank'>Fields</a> | Connector: cartodb | Published: False </div> </div><p></p><div class='item_container' style='height: auto; overflow: hidden; border: 3px solid #2BA4A0;border-radius: 2px; background: #fff; line-height: 1.21429em; padding: 10px;''><div class='item_left' style='width: 210px;  float: left;''><a href='https://resourcewatch.org/' target='_blank'><img class='itemThumbnail' src='https://resourcewatch.org/static/images/logo-embed.png'></a></div><div class='item_right' style='float: none; width: auto; hidden;padding-left: 10px; overflow: hidden;''><b>2. </b><a href=https://api.resourcewatch.org/v1/dataset/7acca489-9398-416e-a877-944a2075d9e4?filterIncludesByEnv=true&includes=vocabulary,metadata,layer,widget&env=production target='_blank'><b>Tree Cover Loss 2018 Change - Geostore - v20200222</b></a><br>Production Dataset in GFW.<br> Data source tsv<br>Last Modified: 2020-10-08T08:03:51.328Z<br><a href='https://api.resourcewatch.org/v1/fields/7acca489-9398-416e-a877-944a2075d9e4' target='_blank'>Fields</a> | Connector: tsv | Published: True </div> </div><p></p><div class='item_container' style='height: auto; overflow: hidden; border: 3px solid #2BA4A0;border-radius: 2px; background: #fff; line-height: 1.21429em; padding: 10px;''><div class='item_left' style='width: 210px;  float: left;''><a href='https://resourcewatch.org/' target='_blank'><img class='itemThumbnail' src='https://resourcewatch.org/static/images/logo-embed.png'></a></div><div class='item_right' style='float: none; width: auto; hidden;padding-left: 10px; overflow: hidden;''><b>3. </b><a href=https://api.resourcewatch.org/v1/dataset/857b515e-2b36-41b5-a58c-d4e7202e254a?filterIncludesByEnv=true&includes=vocabulary,metadata,layer,widget target='_blank'><b>Tree Cover Loss 2018 Summary - GADM Adm1 level - v20190701</b></a><br>Production Table in GFW.<br> Data source json<br>Last Modified: 2020-10-07T15:30:21.139Z<br><a href='https://api.resourcewatch.org/v1/fields/857b515e-2b36-41b5-a58c-d4e7202e254a' target='_blank'>Fields</a> | Connector: json | Published: True </div> </div><p></p><div class='item_container' style='height: auto; overflow: hidden; border: 3px solid #2BA4A0;border-radius: 2px; background: #fff; line-height: 1.21429em; padding: 10px;''><div class='item_left' style='width: 210px;  float: left;''><a href='https://resourcewatch.org/' target='_blank'><img class='itemThumbnail' src='https://resourcewatch.org/static/images/logo-embed.png'></a></div><div class='item_right' style='float: none; width: auto; hidden;padding-left: 10px; overflow: hidden;''><b>4. </b><a href=https://api.resourcewatch.org/v1/dataset/82a317da-1fec-4bd0-b9d6-ebe786b9f269?filterIncludesByEnv=true&includes=vocabulary,metadata,layer,widget target='_blank'><b>Tree Cover Loss 2018 Summary - GADM Adm2 level - v20190701</b></a><br>Production Table in GFW.<br> Data source json<br>Last Modified: 2020-10-07T16:01:14.220Z<br><a href='https://api.resourcewatch.org/v1/fields/82a317da-1fec-4bd0-b9d6-ebe786b9f269' target='_blank'>Fields</a> | Connector: json | Published: True </div> </div><p></p><div class='item_container' style='height: auto; overflow: hidden; border: 3px solid #2BA4A0;border-radius: 2px; background: #fff; line-height: 1.21429em; padding: 10px;''><div class='item_left' style='width: 210px;  float: left;''><a href='https://resourcewatch.org/' target='_blank'><img class='itemThumbnail' src='https://resourcewatch.org/static/images/logo-embed.png'></a></div><div class='item_right' style='float: none; width: auto; hidden;padding-left: 10px; overflow: hidden;''><b>5. </b><a href=https://api.resourcewatch.org/v1/dataset/10e124f0-3703-41e3-8136-492b131d5326?filterIncludesByEnv=true&includes=vocabulary,metadata,layer,widget target='_blank'><b>Tree Cover Loss 2018 Summary - GADM ISO level - v20190701</b></a><br>Production Table in GFW.<br> Data source json<br>Last Modified: 2020-10-07T15:20:09.371Z<br><a href='https://api.resourcewatch.org/v1/fields/10e124f0-3703-41e3-8136-492b131d5326' target='_blank'>Fields</a> | Connector: json | Published: True </div> </div><p></p><div class='item_container' style='height: auto; overflow: hidden; border: 3px solid #2BA4A0;border-radius: 2px; background: #fff; line-height: 1.21429em; padding: 10px;''><div class='item_left' style='width: 210px;  float: left;''><a href='https://resourcewatch.org/' target='_blank'><img class='itemThumbnail' src='https://resourcewatch.org/static/images/logo-embed.png'></a></div><div class='item_right' style='float: none; width: auto; hidden;padding-left: 10px; overflow: hidden;''><b>6. </b><a href=https://api.resourcewatch.org/v1/dataset/2aea608a-acee-4605-ac58-0245796f7c45?filterIncludesByEnv=true&includes=vocabulary,metadata,layer,widget&env=production target='_blank'><b>Tree Cover Loss 2018 Summary - minimal - geostore - latest</b></a><br>Production Dataset in GFW.<br> Data source tsv<br>Last Modified: 2020-10-07T15:38:52.357Z<br><a href='https://api.resourcewatch.org/v1/fields/2aea608a-acee-4605-ac58-0245796f7c45' target='_blank'>Fields</a> | Connector: tsv | Published: True </div> </div><p></p><div class='item_container' style='height: auto; overflow: hidden; border: 3px solid #2BA4A0;border-radius: 2px; background: #fff; line-height: 1.21429em; padding: 10px;''><div class='item_left' style='width: 210px;  float: left;''><a href='https://resourcewatch.org/' target='_blank'><img class='itemThumbnail' src='https://resourcewatch.org/static/images/logo-embed.png'></a></div><div class='item_right' style='float: none; width: auto; hidden;padding-left: 10px; overflow: hidden;''><b>7. </b><a href=https://api.resourcewatch.org/v1/dataset/78408179-1fec-47d3-b3d0-f2dbd71f0ab0?filterIncludesByEnv=true&includes=vocabulary,metadata,layer,widget&env=production target='_blank'><b>Tree Cover Loss 2020 Change - GADM Adm1 level - v20210323</b></a><br>Production Dataset in GFW.<br> Data source tsv<br>Last Modified: 2021-03-24T21:29:39.749Z<br><a href='https://api.resourcewatch.org/v1/fields/78408179-1fec-47d3-b3d0-f2dbd71f0ab0' target='_blank'>Fields</a> | Connector: tsv | Published: True </div> </div><p></p><div class='item_container' style='height: auto; overflow: hidden; border: 3px solid #2BA4A0;border-radius: 2px; background: #fff; line-height: 1.21429em; padding: 10px;''><div class='item_left' style='width: 210px;  float: left;''><a href='https://resourcewatch.org/' target='_blank'><img class='itemThumbnail' src='https://resourcewatch.org/static/images/logo-embed.png'></a></div><div class='item_right' style='float: none; width: auto; hidden;padding-left: 10px; overflow: hidden;''><b>8. </b><a href=https://api.resourcewatch.org/v1/dataset/1649e720-9305-408d-bb91-6e22f9039cd4?filterIncludesByEnv=true&includes=vocabulary,metadata,layer,widget&env=production target='_blank'><b>Tree Cover Loss 2020 Change - GADM Adm2 level - v20210323</b></a><br>Production Dataset in GFW.<br> Data source tsv<br>Last Modified: 2021-03-23T22:07:48.849Z<br><a href='https://api.resourcewatch.org/v1/fields/1649e720-9305-408d-bb91-6e22f9039cd4' target='_blank'>Fields</a> | Connector: tsv | Published: True </div> </div><p></p><div class='item_container' style='height: auto; overflow: hidden; border: 3px solid #2BA4A0;border-radius: 2px; background: #fff; line-height: 1.21429em; padding: 10px;''><div class='item_left' style='width: 210px;  float: left;''><a href='https://resourcewatch.org/' target='_blank'><img class='itemThumbnail' src='https://resourcewatch.org/static/images/logo-embed.png'></a></div><div class='item_right' style='float: none; width: auto; hidden;padding-left: 10px; overflow: hidden;''><b>9. </b><a href=https://api.resourcewatch.org/v1/dataset/2a22d84a-721c-41a4-9de5-19890342f3c1?filterIncludesByEnv=true&includes=vocabulary,metadata,layer,widget&env=production target='_blank'><b>Tree Cover Loss 2020 Change - GADM Iso level - v20210323</b></a><br>Production Dataset in GFW.<br> Data source tsv<br>Last Modified: 2021-03-23T22:27:39.456Z<br><a href='https://api.resourcewatch.org/v1/fields/2a22d84a-721c-41a4-9de5-19890342f3c1' target='_blank'>Fields</a> | Connector: tsv | Published: True </div> </div><p></p><div class='item_container' style='height: auto; overflow: hidden; border: 3px solid #2BA4A0;border-radius: 2px; background: #fff; line-height: 1.21429em; padding: 10px;''><div class='item_left' style='width: 210px;  float: left;''><a href='https://resourcewatch.org/' target='_blank'><img class='itemThumbnail' src='https://resourcewatch.org/static/images/logo-embed.png'></a></div><div class='item_right' style='float: none; width: auto; hidden;padding-left: 10px; overflow: hidden;''><b>10. </b><a href=https://api.resourcewatch.org/v1/dataset/29758f3d-c4d0-4a82-a15b-76aa6036e94c?filterIncludesByEnv=true&includes=vocabulary,metadata,layer,widget&env=production target='_blank'><b>Tree Cover Loss 2020 Change - Geostore - v20210323</b></a><br>Production Dataset in GFW.<br> Data source tsv<br>Last Modified: 2021-03-25T19:35:32.976Z<br><a href='https://api.resourcewatch.org/v1/fields/29758f3d-c4d0-4a82-a15b-76aa6036e94c' target='_blank'>Fields</a> | Connector: tsv | Published: True </div> </div><p></p><div class='item_container' style='height: auto; overflow: hidden; border: 3px solid #2BA4A0;border-radius: 2px; background: #fff; line-height: 1.21429em; padding: 10px;''><div class='item_left' style='width: 210px;  float: left;''><a href='https://resourcewatch.org/' target='_blank'><img class='itemThumbnail' src='https://resourcewatch.org/static/images/logo-embed.png'></a></div><div class='item_right' style='float: none; width: auto; hidden;padding-left: 10px; overflow: hidden;''><b>11. </b><a href=https://api.resourcewatch.org/v1/dataset/06ac26c2-035d-4c85-9cc1-31db29d7d797?filterIncludesByEnv=true&includes=vocabulary,metadata,layer,widget&env=production target='_blank'><b>Tree Cover Loss 2020 Change - Geostore - v20210323</b></a><br>Production Dataset in GFW.<br> Data source tsv<br>Last Modified: 2021-03-29T13:21:36.160Z<br><a href='https://api.resourcewatch.org/v1/fields/06ac26c2-035d-4c85-9cc1-31db29d7d797' target='_blank'>Fields</a> | Connector: tsv | Published: True </div> </div><p></p><div class='item_container' style='height: auto; overflow: hidden; border: 3px solid #2BA4A0;border-radius: 2px; background: #fff; line-height: 1.21429em; padding: 10px;''><div class='item_left' style='width: 210px;  float: left;''><a href='https://resourcewatch.org/' target='_blank'><img class='itemThumbnail' src='https://resourcewatch.org/static/images/logo-embed.png'></a></div><div class='item_right' style='float: none; width: auto; hidden;padding-left: 10px; overflow: hidden;''><b>12. </b><a href=https://api.resourcewatch.org/v1/dataset/12c4d1c3-3c8a-4296-ba42-8c430b6b31d3?filterIncludesByEnv=true&includes=vocabulary,metadata,layer,widget&env=production target='_blank'><b>Tree Cover Loss 2020 Change - Geostore - v20210330</b></a><br>Production Dataset in GFW.<br> Data source tsv<br>Last Modified: 2021-03-30T20:09:32.426Z<br><a href='https://api.resourcewatch.org/v1/fields/12c4d1c3-3c8a-4296-ba42-8c430b6b31d3' target='_blank'>Fields</a> | Connector: tsv | Published: True </div> </div><p></p><div class='item_container' style='height: auto; overflow: hidden; border: 3px solid #2BA4A0;border-radius: 2px; background: #fff; line-height: 1.21429em; padding: 10px;''><div class='item_left' style='width: 210px;  float: left;''><a href='https://resourcewatch.org/' target='_blank'><img class='itemThumbnail' src='https://resourcewatch.org/static/images/logo-embed.png'></a></div><div class='item_right' style='float: none; width: auto; hidden;padding-left: 10px; overflow: hidden;''><b>13. </b><a href=https://api.resourcewatch.org/v1/dataset/8a4332da-0d5b-4ac3-9a1b-4fe101daecb3?filterIncludesByEnv=true&includes=vocabulary,metadata,layer,widget&env=production target='_blank'><b>Tree Cover Loss 2020 Summary - GADM Adm1 level - v20210323</b></a><br>Production Dataset in GFW.<br> Data source tsv<br>Last Modified: 2021-03-24T21:29:43.522Z<br><a href='https://api.resourcewatch.org/v1/fields/8a4332da-0d5b-4ac3-9a1b-4fe101daecb3' target='_blank'>Fields</a> | Connector: tsv | Published: True </div> </div><p></p><div class='item_container' style='height: auto; overflow: hidden; border: 3px solid #2BA4A0;border-radius: 2px; background: #fff; line-height: 1.21429em; padding: 10px;''><div class='item_left' style='width: 210px;  float: left;''><a href='https://resourcewatch.org/' target='_blank'><img class='itemThumbnail' src='https://resourcewatch.org/static/images/logo-embed.png'></a></div><div class='item_right' style='float: none; width: auto; hidden;padding-left: 10px; overflow: hidden;''><b>14. </b><a href=https://api.resourcewatch.org/v1/dataset/1754999b-3093-4eaa-a6b9-f63da2471dc1?filterIncludesByEnv=true&includes=vocabulary,metadata,layer,widget&env=production target='_blank'><b>Tree Cover Loss 2020 Summary - GADM Adm2 level - v20210218</b></a><br>Production Dataset in GFW.<br> Data source tsv<br>Last Modified: 2021-02-19T01:48:49.362Z<br><a href='https://api.resourcewatch.org/v1/fields/1754999b-3093-4eaa-a6b9-f63da2471dc1' target='_blank'>Fields</a> | Connector: tsv | Published: True </div> </div><p></p><div class='item_container' style='height: auto; overflow: hidden; border: 3px solid #2BA4A0;border-radius: 2px; background: #fff; line-height: 1.21429em; padding: 10px;''><div class='item_left' style='width: 210px;  float: left;''><a href='https://resourcewatch.org/' target='_blank'><img class='itemThumbnail' src='https://resourcewatch.org/static/images/logo-embed.png'></a></div><div class='item_right' style='float: none; width: auto; hidden;padding-left: 10px; overflow: hidden;''><b>15. </b><a href=https://api.resourcewatch.org/v1/dataset/c9142f45-4fec-47a3-a03c-0078b3015118?filterIncludesByEnv=true&includes=vocabulary,metadata,layer,widget&env=production target='_blank'><b>Tree Cover Loss 2020 Summary - GADM Adm2 level - v20210323</b></a><br>Production Dataset in GFW.<br> Data source tsv<br>Last Modified: 2021-03-25T00:59:17.199Z<br><a href='https://api.resourcewatch.org/v1/fields/c9142f45-4fec-47a3-a03c-0078b3015118' target='_blank'>Fields</a> | Connector: tsv | Published: True </div> </div><p></p><div class='item_container' style='height: auto; overflow: hidden; border: 3px solid #2BA4A0;border-radius: 2px; background: #fff; line-height: 1.21429em; padding: 10px;''><div class='item_left' style='width: 210px;  float: left;''><a href='https://resourcewatch.org/' target='_blank'><img class='itemThumbnail' src='https://resourcewatch.org/static/images/logo-embed.png'></a></div><div class='item_right' style='float: none; width: auto; hidden;padding-left: 10px; overflow: hidden;''><b>16. </b><a href=https://api.resourcewatch.org/v1/dataset/a19d146d-bead-4dfe-a4cb-8fa0e9793b5e?filterIncludesByEnv=true&includes=vocabulary,metadata,layer,widget&env=production target='_blank'><b>Tree Cover Loss 2020 Summary - GADM Iso level - v20210323</b></a><br>Production Dataset in GFW.<br> Data source tsv<br>Last Modified: 2021-03-23T22:27:39.816Z<br><a href='https://api.resourcewatch.org/v1/fields/a19d146d-bead-4dfe-a4cb-8fa0e9793b5e' target='_blank'>Fields</a> | Connector: tsv | Published: True </div> </div><p></p><div class='item_container' style='height: auto; overflow: hidden; border: 3px solid #2BA4A0;border-radius: 2px; background: #fff; line-height: 1.21429em; padding: 10px;''><div class='item_left' style='width: 210px;  float: left;''><a href='https://resourcewatch.org/' target='_blank'><img class='itemThumbnail' src='https://resourcewatch.org/static/images/logo-embed.png'></a></div><div class='item_right' style='float: none; width: auto; hidden;padding-left: 10px; overflow: hidden;''><b>17. </b><a href=https://api.resourcewatch.org/v1/dataset/84aaf340-1a46-46a6-ba84-be1e2a5b5d68?filterIncludesByEnv=true&includes=vocabulary,metadata,layer,widget&env=production target='_blank'><b>Tree Cover Loss 2020 Whitelist - GADM Adm1 level - v20210323</b></a><br>Production Dataset in GFW.<br> Data source tsv<br>Last Modified: 2021-03-29T13:20:50.944Z<br><a href='https://api.resourcewatch.org/v1/fields/84aaf340-1a46-46a6-ba84-be1e2a5b5d68' target='_blank'>Fields</a> | Connector: tsv | Published: True </div> </div><p></p><div class='item_container' style='height: auto; overflow: hidden; border: 3px solid #2BA4A0;border-radius: 2px; background: #fff; line-height: 1.21429em; padding: 10px;''><div class='item_left' style='width: 210px;  float: left;''><a href='https://resourcewatch.org/' target='_blank'><img class='itemThumbnail' src='https://resourcewatch.org/static/images/logo-embed.png'></a></div><div class='item_right' style='float: none; width: auto; hidden;padding-left: 10px; overflow: hidden;''><b>18. </b><a href=https://api.resourcewatch.org/v1/dataset/0190dadb-2f53-415e-95c8-aba1b10afdfa?filterIncludesByEnv=true&includes=vocabulary,metadata,layer,widget&env=production target='_blank'><b>Tree Cover Loss 2020 Whitelist - GADM Adm2 level - v20210323</b></a><br>Production Dataset in GFW.<br> Data source tsv<br>Last Modified: 2021-03-29T13:20:50.616Z<br><a href='https://api.resourcewatch.org/v1/fields/0190dadb-2f53-415e-95c8-aba1b10afdfa' target='_blank'>Fields</a> | Connector: tsv | Published: True </div> </div><p></p><div class='item_container' style='height: auto; overflow: hidden; border: 3px solid #2BA4A0;border-radius: 2px; background: #fff; line-height: 1.21429em; padding: 10px;''><div class='item_left' style='width: 210px;  float: left;''><a href='https://resourcewatch.org/' target='_blank'><img class='itemThumbnail' src='https://resourcewatch.org/static/images/logo-embed.png'></a></div><div class='item_right' style='float: none; width: auto; hidden;padding-left: 10px; overflow: hidden;''><b>19. </b><a href=https://api.resourcewatch.org/v1/dataset/d050aa07-c823-4736-9549-394e7532c0b1?filterIncludesByEnv=true&includes=vocabulary,metadata,layer,widget&env=production target='_blank'><b>Tree Cover Loss 2020 Whitelist - GADM Iso level - v20210323</b></a><br>Production Dataset in GFW.<br> Data source tsv<br>Last Modified: 2021-03-23T22:27:38.088Z<br><a href='https://api.resourcewatch.org/v1/fields/d050aa07-c823-4736-9549-394e7532c0b1' target='_blank'>Fields</a> | Connector: tsv | Published: True </div> </div><p></p><div class='item_container' style='height: auto; overflow: hidden; border: 3px solid #2BA4A0;border-radius: 2px; background: #fff; line-height: 1.21429em; padding: 10px;''><div class='item_left' style='width: 210px;  float: left;''><a href='https://resourcewatch.org/' target='_blank'><img class='itemThumbnail' src='https://resourcewatch.org/static/images/logo-embed.png'></a></div><div class='item_right' style='float: none; width: auto; hidden;padding-left: 10px; overflow: hidden;''><b>20. </b><a href=https://api.resourcewatch.org/v1/dataset/cdc5217b-09b7-461d-961d-dc262ba2b4be?filterIncludesByEnv=true&includes=vocabulary,metadata,layer,widget target='_blank'><b>Tree cover loss 2018 - GADMv3.6 ADM1 summary - v20190423</b></a><br>Production Table in GFW.<br> Data source json<br>Last Modified: 2020-10-07T14:38:44.001Z<br><a href='https://api.resourcewatch.org/v1/fields/cdc5217b-09b7-461d-961d-dc262ba2b4be' target='_blank'>Fields</a> | Connector: json | Published: True </div> </div><p></p><div class='item_container' style='height: auto; overflow: hidden; border: 3px solid #2BA4A0;border-radius: 2px; background: #fff; line-height: 1.21429em; padding: 10px;''><div class='item_left' style='width: 210px;  float: left;''><a href='https://resourcewatch.org/' target='_blank'><img class='itemThumbnail' src='https://resourcewatch.org/static/images/logo-embed.png'></a></div><div class='item_right' style='float: none; width: auto; hidden;padding-left: 10px; overflow: hidden;''><b>21. </b><a href=https://api.resourcewatch.org/v1/dataset/bd42375f-0983-4e4f-9602-806eb2c26401?filterIncludesByEnv=true&includes=vocabulary,metadata,layer,widget target='_blank'><b>Tree cover loss 2018 - GADMv3.6 ADM2 summary - v20190423</b></a><br>Production Table in GFW.<br> Data source json<br>Last Modified: 2020-10-07T14:38:45.065Z<br><a href='https://api.resourcewatch.org/v1/fields/bd42375f-0983-4e4f-9602-806eb2c26401' target='_blank'>Fields</a> | Connector: json | Published: True </div> </div><p></p><div class='item_container' style='height: auto; overflow: hidden; border: 3px solid #2BA4A0;border-radius: 2px; background: #fff; line-height: 1.21429em; padding: 10px;''><div class='item_left' style='width: 210px;  float: left;''><a href='https://resourcewatch.org/' target='_blank'><img class='itemThumbnail' src='https://resourcewatch.org/static/images/logo-embed.png'></a></div><div class='item_right' style='float: none; width: auto; hidden;padding-left: 10px; overflow: hidden;''><b>22. </b><a href=https://api.resourcewatch.org/v1/dataset/f56a1761-d6be-40ec-9cd3-df16d3588480?filterIncludesByEnv=true&includes=vocabulary,metadata,layer,widget target='_blank'><b>Tree cover loss 2018 - GADMv3.6 ADM2 summary - v20190429</b></a><br>Production Table in GFW.<br> Data source json<br>Last Modified: 2020-10-07T14:43:48.316Z<br><a href='https://api.resourcewatch.org/v1/fields/f56a1761-d6be-40ec-9cd3-df16d3588480' target='_blank'>Fields</a> | Connector: json | Published: True </div> </div><p></p><div class='item_container' style='height: auto; overflow: hidden; border: 3px solid #2BA4A0;border-radius: 2px; background: #fff; line-height: 1.21429em; padding: 10px;''><div class='item_left' style='width: 210px;  float: left;''><a href='https://resourcewatch.org/' target='_blank'><img class='itemThumbnail' src='https://resourcewatch.org/static/images/logo-embed.png'></a></div><div class='item_right' style='float: none; width: auto; hidden;padding-left: 10px; overflow: hidden;''><b>23. </b><a href=https://api.resourcewatch.org/v1/dataset/97546f05-3dce-4dd0-9abf-80fd1bff9cee?filterIncludesByEnv=true&includes=vocabulary,metadata,layer,widget target='_blank'><b>Tree cover loss 2018 - GADMv3.6 ISO summary - v20190423</b></a><br>Production Table in GFW.<br> Data source json<br>Last Modified: 2020-10-07T14:40:45.803Z<br><a href='https://api.resourcewatch.org/v1/fields/97546f05-3dce-4dd0-9abf-80fd1bff9cee' target='_blank'>Fields</a> | Connector: json | Published: True </div> </div><p></p><div class='item_container' style='height: auto; overflow: hidden; border: 3px solid #2BA4A0;border-radius: 2px; background: #fff; line-height: 1.21429em; padding: 10px;''><div class='item_left' style='width: 210px;  float: left;''><a href='https://resourcewatch.org/' target='_blank'><img class='itemThumbnail' src='https://resourcewatch.org/static/images/logo-embed.png'></a></div><div class='item_right' style='float: none; width: auto; hidden;padding-left: 10px; overflow: hidden;''><b>24. </b><a href=https://api.resourcewatch.org/v1/dataset/b584954c-0d8d-40c6-859c-f3fdf3c2c5df?filterIncludesByEnv=true&includes=vocabulary,metadata,layer,widget&env=production target='_blank'><b>Tree cover loss 2019 (LM v3)</b></a><br>Production Dataset in GFW.<br> GEE asset: <a href='https://code.earthengine.google.com/asset='projects/wri-datalab/HansenComposite_17 target='_blank'>projects/wri-datalab/HansenComposite_17</a><br>Last Modified: 2022-04-28T07:00:28.283Z<br><a href='https://api.resourcewatch.org/v1/fields/b584954c-0d8d-40c6-859c-f3fdf3c2c5df' target='_blank'>Fields</a> | Connector: gee | Published: False </div> </div><p></p><div class='item_container' style='height: auto; overflow: hidden; border: 3px solid #2BA4A0;border-radius: 2px; background: #fff; line-height: 1.21429em; padding: 10px;''><div class='item_left' style='width: 210px;  float: left;''><a href='https://resourcewatch.org/' target='_blank'><img class='itemThumbnail' src='https://resourcewatch.org/static/images/logo-embed.png'></a></div><div class='item_right' style='float: none; width: auto; hidden;padding-left: 10px; overflow: hidden;''><b>25. </b><a href=https://api.resourcewatch.org/v1/dataset/893d2c15-7f3c-4fbc-bc84-2bedfd863e84?filterIncludesByEnv=true&includes=vocabulary,metadata,layer,widget&env=production target='_blank'><b>Tree cover loss 2021 (LM v3)</b></a><br>Production Dataset in GFW.<br> GEE asset: <a href='https://code.earthengine.google.com/asset='projects/wri-datalab/HansenComposite_17 target='_blank'>projects/wri-datalab/HansenComposite_17</a><br>Last Modified: 2022-04-28T06:58:01.859Z<br><a href='https://api.resourcewatch.org/v1/fields/893d2c15-7f3c-4fbc-bc84-2bedfd863e84' target='_blank'>Fields</a> | Connector: gee | Published: True </div> </div><p></p><div class='item_container' style='height: auto; overflow: hidden; border: 3px solid #2BA4A0;border-radius: 2px; background: #fff; line-height: 1.21429em; padding: 10px;''><div class='item_left' style='width: 210px;  float: left;''><a href='https://resourcewatch.org/' target='_blank'><img class='itemThumbnail' src='https://resourcewatch.org/static/images/logo-embed.png'></a></div><div class='item_right' style='float: none; width: auto; hidden;padding-left: 10px; overflow: hidden;''><b>26. </b><a href=https://api.resourcewatch.org/v1/dataset/f23a1803-ba17-4fe3-a1ad-39abfbfb56c6?filterIncludesByEnv=true&includes=vocabulary,metadata,layer,widget&env=production target='_blank'><b>Tree cover loss by dominant driver (LM v3)</b></a><br>Production Dataset in GFW.<br> GEE asset: <a href='https://code.earthengine.google.com/asset='projects/wri-datalab/HansenComposite_17 target='_blank'>projects/wri-datalab/HansenComposite_17</a><br>Last Modified: 2020-03-31T08:31:35.755Z<br><a href='https://api.resourcewatch.org/v1/fields/f23a1803-ba17-4fe3-a1ad-39abfbfb56c6' target='_blank'>Fields</a> | Connector: gee | Published: True </div> </div><p></p><div class='item_container' style='height: auto; overflow: hidden; border: 3px solid #2BA4A0;border-radius: 2px; background: #fff; line-height: 1.21429em; padding: 10px;''><div class='item_left' style='width: 210px;  float: left;''><a href='https://resourcewatch.org/' target='_blank'><img class='itemThumbnail' src='https://resourcewatch.org/static/images/logo-embed.png'></a></div><div class='item_right' style='float: none; width: auto; hidden;padding-left: 10px; overflow: hidden;''><b>27. </b><a href=https://api.resourcewatch.org/v1/dataset/051df3a6-3428-410d-bda0-fc905ac031ad?filterIncludesByEnv=true&includes=vocabulary,metadata,layer,widget&env=production target='_blank'><b>Tree cover loss due to fires (v202205)(DEPRECATED)</b></a><br>Production Dataset in GFW.<br> GEE asset: <a href='https://code.earthengine.google.com/asset='projects/wri-datalab/HansenComposite_17 target='_blank'>projects/wri-datalab/HansenComposite_17</a><br>Last Modified: 2022-08-03T09:06:30.725Z<br><a href='https://api.resourcewatch.org/v1/fields/051df3a6-3428-410d-bda0-fc905ac031ad' target='_blank'>Fields</a> | Connector: gee | Published: False </div> </div><p></p><div class='item_container' style='height: auto; overflow: hidden; border: 3px solid #2BA4A0;border-radius: 2px; background: #fff; line-height: 1.21429em; padding: 10px;''><div class='item_left' style='width: 210px;  float: left;''><a href='https://resourcewatch.org/' target='_blank'><img class='itemThumbnail' src='https://resourcewatch.org/static/images/logo-embed.png'></a></div><div class='item_right' style='float: none; width: auto; hidden;padding-left: 10px; overflow: hidden;''><b>28. </b><a href=https://api.resourcewatch.org/v1/dataset/bd66ee37-ad8d-4c6a-b6ab-0294ecd1759d?filterIncludesByEnv=true&includes=vocabulary,metadata,layer,widget&env=production target='_blank'><b>Tree cover loss due to fires (v202207)</b></a><br>Production Dataset in GFW.<br> GEE asset: <a href='https://code.earthengine.google.com/asset='projects/wri-datalab/HansenComposite_17 target='_blank'>projects/wri-datalab/HansenComposite_17</a><br>Last Modified: 2022-08-03T09:06:08.702Z<br><a href='https://api.resourcewatch.org/v1/fields/bd66ee37-ad8d-4c6a-b6ab-0294ecd1759d' target='_blank'>Fields</a> | Connector: gee | Published: True </div> </div>"
      ],
      "text/plain": [
       "[0. Dataset f6c67028-d820-46f3-9190-97cc56e7fef0 Carbon dioxide emissions from tree cover loss (LM v3),\n",
       " 1. Dataset 39e02031-5214-4ff1-806f-23f4485ab2ff Carbon dioxide emissions from tree cover loss in drained peat (LM v3),\n",
       " 2. Dataset 7acca489-9398-416e-a877-944a2075d9e4 Tree Cover Loss 2018 Change - Geostore - v20200222,\n",
       " 3. Table 857b515e-2b36-41b5-a58c-d4e7202e254a Tree Cover Loss 2018 Summary - GADM Adm1 level - v20190701,\n",
       " 4. Table 82a317da-1fec-4bd0-b9d6-ebe786b9f269 Tree Cover Loss 2018 Summary - GADM Adm2 level - v20190701,\n",
       " 5. Table 10e124f0-3703-41e3-8136-492b131d5326 Tree Cover Loss 2018 Summary - GADM ISO level - v20190701,\n",
       " 6. Dataset 2aea608a-acee-4605-ac58-0245796f7c45 Tree Cover Loss 2018 Summary - minimal - geostore - latest,\n",
       " 7. Dataset 78408179-1fec-47d3-b3d0-f2dbd71f0ab0 Tree Cover Loss 2020 Change - GADM Adm1 level - v20210323,\n",
       " 8. Dataset 1649e720-9305-408d-bb91-6e22f9039cd4 Tree Cover Loss 2020 Change - GADM Adm2 level - v20210323,\n",
       " 9. Dataset 2a22d84a-721c-41a4-9de5-19890342f3c1 Tree Cover Loss 2020 Change - GADM Iso level - v20210323,\n",
       " 10. Dataset 29758f3d-c4d0-4a82-a15b-76aa6036e94c Tree Cover Loss 2020 Change - Geostore - v20210323,\n",
       " 11. Dataset 06ac26c2-035d-4c85-9cc1-31db29d7d797 Tree Cover Loss 2020 Change - Geostore - v20210323,\n",
       " 12. Dataset 12c4d1c3-3c8a-4296-ba42-8c430b6b31d3 Tree Cover Loss 2020 Change - Geostore - v20210330,\n",
       " 13. Dataset 8a4332da-0d5b-4ac3-9a1b-4fe101daecb3 Tree Cover Loss 2020 Summary - GADM Adm1 level - v20210323,\n",
       " 14. Dataset 1754999b-3093-4eaa-a6b9-f63da2471dc1 Tree Cover Loss 2020 Summary - GADM Adm2 level - v20210218,\n",
       " 15. Dataset c9142f45-4fec-47a3-a03c-0078b3015118 Tree Cover Loss 2020 Summary - GADM Adm2 level - v20210323,\n",
       " 16. Dataset a19d146d-bead-4dfe-a4cb-8fa0e9793b5e Tree Cover Loss 2020 Summary - GADM Iso level - v20210323,\n",
       " 17. Dataset 84aaf340-1a46-46a6-ba84-be1e2a5b5d68 Tree Cover Loss 2020 Whitelist - GADM Adm1 level - v20210323,\n",
       " 18. Dataset 0190dadb-2f53-415e-95c8-aba1b10afdfa Tree Cover Loss 2020 Whitelist - GADM Adm2 level - v20210323,\n",
       " 19. Dataset d050aa07-c823-4736-9549-394e7532c0b1 Tree Cover Loss 2020 Whitelist - GADM Iso level - v20210323,\n",
       " 20. Table cdc5217b-09b7-461d-961d-dc262ba2b4be Tree cover loss 2018 - GADMv3.6 ADM1 summary - v20190423,\n",
       " 21. Table bd42375f-0983-4e4f-9602-806eb2c26401 Tree cover loss 2018 - GADMv3.6 ADM2 summary - v20190423,\n",
       " 22. Table f56a1761-d6be-40ec-9cd3-df16d3588480 Tree cover loss 2018 - GADMv3.6 ADM2 summary - v20190429,\n",
       " 23. Table 97546f05-3dce-4dd0-9abf-80fd1bff9cee Tree cover loss 2018 - GADMv3.6 ISO summary - v20190423,\n",
       " 24. Dataset b584954c-0d8d-40c6-859c-f3fdf3c2c5df Tree cover loss 2019 (LM v3),\n",
       " 25. Dataset 893d2c15-7f3c-4fbc-bc84-2bedfd863e84 Tree cover loss 2021 (LM v3),\n",
       " 26. Dataset f23a1803-ba17-4fe3-a1ad-39abfbfb56c6 Tree cover loss by dominant driver (LM v3),\n",
       " 27. Dataset 051df3a6-3428-410d-bda0-fc905ac031ad Tree cover loss due to fires (v202205)(DEPRECATED),\n",
       " 28. Dataset bd66ee37-ad8d-4c6a-b6ab-0294ecd1759d Tree cover loss due to fires (v202207)"
      ]
     },
     "execution_count": 6,
     "metadata": {},
     "output_type": "execute_result"
    }
   ],
   "source": [
    "#search_term = 'loss'\n",
    "#app = ['gfw']\n",
    "env = 'production'\n",
    "#object_type = ['layer', 'dataset']\n",
    "object_type = 'dataset'\n",
    "collection_prod = lmi.Collection(search=search_term, app=app, env=env, object_type=object_type)\n",
    "collection_prod"
   ]
  },
  {
   "cell_type": "code",
   "execution_count": 8,
   "id": "30355f69-3a75-4ab1-9776-335c47043641",
   "metadata": {},
   "outputs": [
    {
     "data": {
      "text/html": [
       "<div class='item_container' style='height: auto; overflow: hidden; border: 3px solid #2BA4A0;border-radius: 2px; background: #fff; line-height: 1.21429em; padding: 10px;''><div class='item_left' style='width: 210px; float: left;''><a href='https://resourcewatch.org/' target='_blank'><img class='itemThumbnail' src='https://resourcewatch.org/static/images/logo-embed.png'></a></div><div class='item_right' style='float: none; width: auto; hidden;padding-left: 10px; overflow: hidden;''><a href=https://api.resourcewatch.org/v1/dataset/893d2c15-7f3c-4fbc-bc84-2bedfd863e84?filterIncludesByEnv=true&includes=vocabulary,metadata,layer,widget&env=production target='_blank'><b>Tree cover loss 2021 (LM v3)</b></a><br>Production Dataset in GFW.<br> GEE asset: <a href='https://code.earthengine.google.com/asset='projects/wri-datalab/HansenComposite_17 target='_blank'>projects/wri-datalab/HansenComposite_17</a><br>Last Modified: 2022-04-28T06:58:01.859Z<br><a href='https://api.resourcewatch.org/v1/fields/893d2c15-7f3c-4fbc-bc84-2bedfd863e84' target='_blank'>Fields</a> Connector: gee | Published: True </div> </div>"
      ],
      "text/plain": [
       "Dataset 893d2c15-7f3c-4fbc-bc84-2bedfd863e84 Tree cover loss 2021 (LM v3)"
      ]
     },
     "execution_count": 8,
     "metadata": {},
     "output_type": "execute_result"
    }
   ],
   "source": [
    "ds_prod = collection_prod[25] #get index from list\n",
    "#prod_example = lmi.Dataset(id_hash = ) #alternative if we already have the dataset id\n",
    "ds_prod"
   ]
  },
  {
   "cell_type": "markdown",
   "id": "f9423050-f8fb-44bd-a484-ad8479e3c7c5",
   "metadata": {},
   "source": [
    "## Check dataset properties"
   ]
  },
  {
   "cell_type": "code",
   "execution_count": 9,
   "id": "782822cd-4497-4a82-875b-aeb463d3bc51",
   "metadata": {},
   "outputs": [
    {
     "data": {
      "text/html": [
       "<div class='item_container' style='height: auto; overflow: hidden; border: 3px solid #2BA4A0;border-radius: 2px; background: #fff; line-height: 1.21429em; padding: 10px;''><div class='item_left' style='width: 210px; float: left;''><a href='https://resourcewatch.org/' target='_blank'><img class='itemThumbnail' src='https://resourcewatch.org/static/images/logo-embed.png'></a></div><div class='item_right' style='float: none; width: auto; hidden;padding-left: 10px; overflow: hidden;''><a href=https://api.resourcewatch.org/v1/dataset/30ec7d3d-1047-4e11-a765-785cead8375a?filterIncludesByEnv=true&includes=vocabulary,metadata,layer,widget&env=staging target='_blank'><b>Tree cover loss 2021 (LM v3) STAGING</b></a><br>Staging Dataset in GFW.<br> GEE asset: <a href='https://code.earthengine.google.com/asset='projects/wri-datalab/HansenComposite_17 target='_blank'>projects/wri-datalab/HansenComposite_17</a><br>Last Modified: 2022-06-02T15:21:13.909Z<br><a href='https://api.resourcewatch.org/v1/fields/30ec7d3d-1047-4e11-a765-785cead8375a' target='_blank'>Fields</a> Connector: gee | Published: True </div> </div>"
      ],
      "text/plain": [
       "Dataset 30ec7d3d-1047-4e11-a765-785cead8375a Tree cover loss 2021 (LM v3) STAGING"
      ]
     },
     "execution_count": 9,
     "metadata": {},
     "output_type": "execute_result"
    }
   ],
   "source": [
    "ds =  collection[1] #get index from list\n",
    "ds"
   ]
  },
  {
   "cell_type": "code",
   "execution_count": 10,
   "id": "aa98e319-fa4f-46e8-bba7-7039a9f863b5",
   "metadata": {},
   "outputs": [
    {
     "data": {
      "text/plain": [
       "{'name': 'Tree cover loss 2021 (LM v3) STAGING',\n",
       " 'slug': 'Tree-cover-loss-2021-LM-v3-STAGING',\n",
       " 'type': None,\n",
       " 'subtitle': None,\n",
       " 'application': ['gfw'],\n",
       " 'dataPath': None,\n",
       " 'attributesPath': None,\n",
       " 'connectorType': 'rest',\n",
       " 'provider': 'gee',\n",
       " 'userId': '622714c480348f001aab92b6',\n",
       " 'connectorUrl': None,\n",
       " 'sources': [],\n",
       " 'tableName': 'projects/wri-datalab/HansenComposite_17',\n",
       " 'status': 'failed',\n",
       " 'published': True,\n",
       " 'overwrite': False,\n",
       " 'mainDateField': None,\n",
       " 'env': 'staging',\n",
       " 'geoInfo': False,\n",
       " 'protected': False,\n",
       " 'legend': {'date': [],\n",
       "  'region': [],\n",
       "  'country': [],\n",
       "  'nested': [],\n",
       "  'integer': [],\n",
       "  'short': [],\n",
       "  'byte': [],\n",
       "  'double': [],\n",
       "  'float': [],\n",
       "  'half_float': [],\n",
       "  'scaled_float': [],\n",
       "  'boolean': [],\n",
       "  'binary': [],\n",
       "  'text': [],\n",
       "  'keyword': []},\n",
       " 'clonedHost': {},\n",
       " 'errorMessage': None,\n",
       " 'taskId': None,\n",
       " 'createdAt': '2022-06-02T15:20:42.582Z',\n",
       " 'updatedAt': '2022-06-02T15:21:13.909Z',\n",
       " 'dataLastUpdated': None,\n",
       " 'widget': [],\n",
       " 'widgetRelevantProps': [],\n",
       " 'layerRelevantProps': []}"
      ]
     },
     "execution_count": 10,
     "metadata": {},
     "output_type": "execute_result"
    }
   ],
   "source": [
    "ds.attributes"
   ]
  },
  {
   "cell_type": "markdown",
   "id": "eab3e99d-6656-4340-8217-1b8bfc212dad",
   "metadata": {},
   "source": [
    "## Get associated layer id"
   ]
  },
  {
   "cell_type": "code",
   "execution_count": 11,
   "id": "27ea274b-5472-434a-9271-c6426b437280",
   "metadata": {},
   "outputs": [
    {
     "data": {
      "text/plain": [
       "[Layer 3c4225a4-a8d8-4d73-b12d-0c47dec84c76 Tree cover loss - 2001-2021]"
      ]
     },
     "execution_count": 11,
     "metadata": {},
     "output_type": "execute_result"
    }
   ],
   "source": [
    "ds.layers"
   ]
  },
  {
   "cell_type": "code",
   "execution_count": 12,
   "id": "22617e0c-fee6-4ca3-8777-e4ecea4c5ee4",
   "metadata": {},
   "outputs": [
    {
     "data": {
      "text/html": [
       "<div class='item_container' style='height: auto; overflow: hidden; border: 3px solid #2BA4A0;border-radius: 2px; background: #fff; line-height: 1.21429em; padding: 10px;''><div class='item_left' style='width: 210px; float: left;''><a href='https://resourcewatch.org/' target='_blank'><img class='itemThumbnail' src='https://resourcewatch.org/static/images/logo-embed.png'></a></div><div class='item_right' style='float: none; width: auto; hidden;padding-left: 10px; overflow: hidden;''><a href=https://api.resourcewatch.org/v1/layer/3c4225a4-a8d8-4d73-b12d-0c47dec84c76?filterIncludesByEnv=true&includes=vocabulary,metadata&env=staging target='_blank'><b>Tree cover loss - 2001-2021</b></a><br>Staging Layer in GFW.<br> Data source tilelayer<br>Last Modified: 2022-06-02T15:20:45.204Z<br><a href='https://api.resourcewatch.org/v1/fields/3c4225a4-a8d8-4d73-b12d-0c47dec84c76' target='_blank'>Fields</a> Connector: tilelayer | Published: True </div> </div>"
      ],
      "text/plain": [
       "Layer 3c4225a4-a8d8-4d73-b12d-0c47dec84c76 Tree cover loss - 2001-2021"
      ]
     },
     "execution_count": 12,
     "metadata": {},
     "output_type": "execute_result"
    }
   ],
   "source": [
    "lay = ds.layers[0]\n",
    "lay"
   ]
  },
  {
   "attachments": {},
   "cell_type": "markdown",
   "id": "715d8faf-0b49-4dc8-b9b1-0006f8f67801",
   "metadata": {},
   "source": [
    "## Check properties in production  \n",
    "Get a first view of the layer's structure in production. Also, check if the layer uses a decode function (only applies to raster data), update if necessary."
   ]
  },
  {
   "cell_type": "code",
   "execution_count": 13,
   "id": "14c0692e-d3a5-4a41-b6c0-e0c03a936713",
   "metadata": {},
   "outputs": [
    {
     "data": {
      "text/plain": [
       "[Layer 2de8aa6d-f523-481a-9ee5-787c4f2facc0 Tree cover loss - 2001-2021]"
      ]
     },
     "execution_count": 13,
     "metadata": {},
     "output_type": "execute_result"
    }
   ],
   "source": [
    "ds_prod.layers"
   ]
  },
  {
   "cell_type": "code",
   "execution_count": 14,
   "id": "9d24e8af-3273-4649-b2b0-5ef64fae5b77",
   "metadata": {},
   "outputs": [],
   "source": [
    "prod_lay = ds_prod.layers[0]"
   ]
  },
  {
   "cell_type": "code",
   "execution_count": 15,
   "id": "b01aed4f-d93b-41e9-9da7-7745ff6462bd",
   "metadata": {},
   "outputs": [
    {
     "data": {
      "text/plain": [
       "{'decode_config': [{'default': '2001-01-01',\n",
       "   'key': 'startDate',\n",
       "   'required': True},\n",
       "  {'default': '2021-12-31', 'key': 'endDate', 'required': True}],\n",
       " 'decode_function': 'treeCoverLoss',\n",
       " 'params_config': [{'default': 30, 'key': 'thresh', 'required': True}],\n",
       " 'source': {'maxzoom': 12,\n",
       "  'minzoom': 2,\n",
       "  'tiles': ['https://tiles.globalforestwatch.org/umd_tree_cover_loss/v1.9/tcd_{thresh}/{z}/{x}/{y}.png'],\n",
       "  'type': 'raster'},\n",
       " 'timeline_config': {'dateFormat': 'YYYY',\n",
       "  'interval': 'years',\n",
       "  'speed': 250,\n",
       "  'step': 1},\n",
       " 'type': 'raster'}"
      ]
     },
     "execution_count": 15,
     "metadata": {},
     "output_type": "execute_result"
    }
   ],
   "source": [
    "prod_lay.attributes['layerConfig']"
   ]
  },
  {
   "attachments": {},
   "cell_type": "markdown",
   "id": "34dc4cbb-1c80-4059-bdf8-9d2f045dcdca",
   "metadata": {},
   "source": [
    "Take note if necessary  \n",
    "```\"decode_function\": \" \"```"
   ]
  },
  {
   "attachments": {},
   "cell_type": "markdown",
   "id": "470e8d21-37d8-4c7d-af2b-957130bc98ba",
   "metadata": {
    "tags": []
   },
   "source": [
    "## Update layer info\n",
    "Some common updates include:  \n",
    "- Update tile cache URL  \n",
    "- Update legend info (text, colors, selectors)\n",
    "- Update / check metadata  \n",
    "\n",
    "Where to access to the information / parameters to update:  \n",
    "- `attributes`: Layer name (title in the legend) and status (published: True/False)  \n",
    "- `layerConfig`: tile cache URL, decoding function, max zoom, time/threshold selectors and parameter used  \n",
    "- `legendConfig`: legend type and components (colors, categories), selector's sentence, extra text info  \n",
    "- `interactionConfig`: layer selector parameters (when >1 layer on dataset), analytics tracking keys, metadata endpoint, layer slug id\n",
    "\n"
   ]
  },
  {
   "attachments": {},
   "cell_type": "markdown",
   "id": "d4c97564",
   "metadata": {},
   "source": [
    "**Check staging layer properties**"
   ]
  },
  {
   "cell_type": "code",
   "execution_count": 18,
   "id": "64807d22-b4b8-4c9f-865f-abe9d1100758",
   "metadata": {},
   "outputs": [
    {
     "data": {
      "text/plain": [
       "{'decode_config': [{'default': '2001-01-01',\n",
       "   'key': 'startDate',\n",
       "   'required': True},\n",
       "  {'default': '2021-12-31', 'key': 'endDate', 'required': True}],\n",
       " 'decode_function': 'treeCoverLoss',\n",
       " 'params_config': [{'default': 30, 'key': 'thresh', 'required': True}],\n",
       " 'source': {'maxzoom': 12,\n",
       "  'minzoom': 2,\n",
       "  'tiles': ['https://tiles.globalforestwatch.org/umd_tree_cover_loss/v1.9/tcd_{thresh}/{z}/{x}/{y}.png'],\n",
       "  'type': 'raster'},\n",
       " 'timeline_config': {'dateFormat': 'YYYY',\n",
       "  'interval': 'years',\n",
       "  'speed': 250,\n",
       "  'step': 1},\n",
       " 'type': 'raster'}"
      ]
     },
     "execution_count": 18,
     "metadata": {},
     "output_type": "execute_result"
    }
   ],
   "source": [
    "#Layer config attributes\n",
    "lay.attributes['layerConfig']"
   ]
  },
  {
   "cell_type": "code",
   "execution_count": 17,
   "id": "f93b7ced",
   "metadata": {},
   "outputs": [
    {
     "data": {
      "text/plain": [
       "{'items': [{'dataMaxZoom': 12,\n",
       "   'threshold': 30,\n",
       "   'color': '#DC6C9A',\n",
       "   'name': 'Tree cover loss',\n",
       "   'source': '(annual, 30m, global, Hansen/UMD/Google/USGS/NASA)',\n",
       "   'notes': ['Displaying loss with {thresh} canopy density.',\n",
       "    'Tree cover loss is not always deforestation.']}],\n",
       " 'type': 'basic'}"
      ]
     },
     "execution_count": 17,
     "metadata": {},
     "output_type": "execute_result"
    }
   ],
   "source": [
    "# Legend config attributes\n",
    "lay.attributes['legendConfig']"
   ]
  },
  {
   "attachments": {},
   "cell_type": "markdown",
   "id": "700e1ca4",
   "metadata": {},
   "source": [
    "### Example of layer update  \n",
    "The payload provided must include the whole object (all the parameters) of the category, in this case `layerConfig`. Any parameter / value can be modified as desired inside that (for example, provide a new tile cache URL / version)  \n",
    "This operation requires the API token passed as `token` parameter."
   ]
  },
  {
   "cell_type": "code",
   "execution_count": null,
   "id": "d7db9171-a6ef-4394-85e1-de79eebc0e33",
   "metadata": {},
   "outputs": [],
   "source": [
    "lay.update(update_params={'layerConfig':{'decode_config': [{'default': '2001-01-01',\n",
    "   'key': 'startDate',\n",
    "   'required': True},\n",
    "  {'default': '2021-12-31', 'key': 'endDate', 'required': True}],\n",
    " 'decode_function': 'treeCoverLoss',\n",
    " 'params_config': [{'default': 30, 'key': 'thresh', 'required': True}],\n",
    " 'source': {'maxzoom': 12,\n",
    "  'minzoom': 2,\n",
    "  'tiles': ['https://tiles.globalforestwatch.org/umd_tree_cover_loss/v1.9/tcd_{thresh}/{z}/{x}/{y}.png'],\n",
    "  'type': 'raster'},\n",
    " 'timeline_config': {'dateFormat': 'YYYY',\n",
    "  'interval': 'years',\n",
    "  'speed': 250,\n",
    "  'step': 1},\n",
    " 'type': 'raster'}\n",
    "}, token=API_TOKEN)"
   ]
  },
  {
   "attachments": {},
   "cell_type": "markdown",
   "id": "fc2c4230-1cdc-4c2d-98e8-3e675ed5d1f1",
   "metadata": {},
   "source": [
    "## Changes at dataset level"
   ]
  },
  {
   "attachments": {},
   "cell_type": "markdown",
   "id": "dfcd498e",
   "metadata": {},
   "source": [
    "### Publish / unpublish dataset"
   ]
  },
  {
   "cell_type": "code",
   "execution_count": null,
   "id": "3aed7c1b-75de-47d6-b615-2092561f0a01",
   "metadata": {},
   "outputs": [],
   "source": [
    "ds.update(update_params={\n",
    "    'published': True,\n",
    "}, token=API_TOKEN)"
   ]
  },
  {
   "attachments": {},
   "cell_type": "markdown",
   "id": "5f8480c1",
   "metadata": {},
   "source": [
    "### Update dataset metadata  \n",
    "Dataset metadata contains the information being displayed in the contents index (left hand menu in the platform to select layers).  \n",
    "Some key parameters are:  \n",
    "- name: Name of the dataset displayed in the contents index  \n",
    "- description: text in the information icon  \n",
    "- citation: information displayed under the dataset name  \n",
    "- color: toggle button color  "
   ]
  },
  {
   "cell_type": "code",
   "execution_count": 20,
   "id": "864efc38",
   "metadata": {},
   "outputs": [
    {
     "data": {
      "text/plain": [
       "Metadata 6298d5542e5b9a001a7f7a3a"
      ]
     },
     "execution_count": 20,
     "metadata": {},
     "output_type": "execute_result"
    }
   ],
   "source": [
    "ds.metadata"
   ]
  },
  {
   "cell_type": "code",
   "execution_count": 21,
   "id": "3e88534a",
   "metadata": {},
   "outputs": [
    {
     "data": {
      "text/plain": [
       "{'dataset': '30ec7d3d-1047-4e11-a765-785cead8375a',\n",
       " 'application': 'gfw',\n",
       " 'resource': {'id': '30ec7d3d-1047-4e11-a765-785cead8375a', 'type': 'dataset'},\n",
       " 'language': 'en',\n",
       " 'info': {'citation': 'annual, 30m, global, Hansen/UMD/Google/USGS/NASA',\n",
       "  'color': '#fe6598',\n",
       "  'description': 'Identifies areas of gross tree cover loss.',\n",
       "  'isLossLayer': True,\n",
       "  'name': 'Tree cover loss'},\n",
       " 'createdAt': '2022-06-02T15:20:52.595Z',\n",
       " 'updatedAt': '2022-06-02T15:20:52.595Z',\n",
       " 'status': 'published'}"
      ]
     },
     "execution_count": 21,
     "metadata": {},
     "output_type": "execute_result"
    }
   ],
   "source": [
    "metas = ds.metadata[0]\n",
    "metas.attributes"
   ]
  },
  {
   "attachments": {},
   "cell_type": "markdown",
   "id": "6bb81c63",
   "metadata": {},
   "source": [
    "**To update metadata, include the whole object as payload and modify as needed**  \n",
    "**NOTE: to check the changes on the metadata, the dataset needs to be reloaded (create `ds` and `metas` variables again**)"
   ]
  },
  {
   "cell_type": "code",
   "execution_count": null,
   "id": "730247d6",
   "metadata": {},
   "outputs": [],
   "source": [
    "metas.update(update_params={'dataset': '30ec7d3d-1047-4e11-a765-785cead8375a',\n",
    " 'application': 'gfw',\n",
    " 'resource': {'id': '30ec7d3d-1047-4e11-a765-785cead8375a', 'type': 'dataset'},\n",
    " 'language': 'en',\n",
    " 'info': {'citation': 'annual, 30m, global, Hansen/UMD/Google/USGS/NASA',\n",
    "  'color': '#fe6598',\n",
    "  'description': 'Identifies areas of gross tree cover loss.',\n",
    "  'isLossLayer': True,\n",
    "  'name': 'Tree cover loss'},\n",
    " 'createdAt': '2022-06-02T15:20:52.595Z',\n",
    " 'updatedAt': '2022-06-02T15:20:52.595Z',\n",
    " 'status': 'published'}, token = API_TOKEN)"
   ]
  },
  {
   "attachments": {},
   "cell_type": "markdown",
   "id": "ce0cd14f",
   "metadata": {},
   "source": [
    "## Deploy to production  \n"
   ]
  },
  {
   "attachments": {},
   "cell_type": "markdown",
   "id": "7deb6a5d",
   "metadata": {},
   "source": [
    "### 1) load staging and production datasets (if not already) via id  "
   ]
  },
  {
   "cell_type": "code",
   "execution_count": null,
   "id": "c3f5ea9b-306f-42b0-927a-86be346727aa",
   "metadata": {},
   "outputs": [],
   "source": [
    "ds = lmi.Dataset('')\n",
    "ds"
   ]
  },
  {
   "cell_type": "code",
   "execution_count": null,
   "id": "03a2c221",
   "metadata": {},
   "outputs": [],
   "source": [
    "ds_prod = lmi.Dataset('')\n",
    "ds_prod"
   ]
  },
  {
   "attachments": {},
   "cell_type": "markdown",
   "id": "ec636774",
   "metadata": {},
   "source": [
    "### 2) Clone staging dataset to production  \n",
    "Update dataset asset name.  \n",
    "Change environment to `production` afterwards (it does not work during cloning)"
   ]
  },
  {
   "cell_type": "code",
   "execution_count": null,
   "id": "43622088",
   "metadata": {},
   "outputs": [],
   "source": [
    "dataset_name = 'SET NAME (v202205)'\n",
    "\n",
    "\n",
    "ds_clone = ds.clone(\n",
    "    token=API_TOKEN,\n",
    "    env='production',\n",
    "    dataset_params={\n",
    "        'name': dataset_name,\n",
    "        'application': ['gfw']\n",
    "    },\n",
    "    clone_children=True\n",
    ")\n",
    "ds_clone.update(update_params={'env':'production'}, token=API_TOKEN)"
   ]
  },
  {
   "attachments": {},
   "cell_type": "markdown",
   "id": "123b72e8",
   "metadata": {},
   "source": [
    "### 3) Unpublish old production dataset  \n",
    "Update name to indicate old dataset"
   ]
  },
  {
   "cell_type": "code",
   "execution_count": null,
   "id": "065b1b87",
   "metadata": {},
   "outputs": [],
   "source": [
    "ds_prod.update(update_params={\n",
    "    'name': 'SET NAME (DEPRECATED)',\n",
    "    'published':False}, token=API_TOKEN)"
   ]
  }
 ],
 "metadata": {
  "kernelspec": {
   "display_name": "Python 3.9.7 ('gfw')",
   "language": "python",
   "name": "python3"
  },
  "language_info": {
   "codemirror_mode": {
    "name": "ipython",
    "version": 3
   },
   "file_extension": ".py",
   "mimetype": "text/x-python",
   "name": "python",
   "nbconvert_exporter": "python",
   "pygments_lexer": "ipython3",
   "version": "3.9.7 (default, Sep 16 2021, 08:50:36) \n[Clang 10.0.0 ]"
  },
  "vscode": {
   "interpreter": {
    "hash": "2a9ac8d5dd6905b6db348871184a65dd2dfdf9210270a3ede0635c6e864e6650"
   }
  }
 },
 "nbformat": 4,
 "nbformat_minor": 5
}
